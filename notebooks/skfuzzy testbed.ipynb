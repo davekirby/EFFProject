{
 "cells": [
  {
   "cell_type": "code",
   "execution_count": 26,
   "id": "4ea1e3b2",
   "metadata": {},
   "outputs": [
    {
     "data": {
      "text/html": [
       "<div>\n",
       "<style scoped>\n",
       "    .dataframe tbody tr th:only-of-type {\n",
       "        vertical-align: middle;\n",
       "    }\n",
       "\n",
       "    .dataframe tbody tr th {\n",
       "        vertical-align: top;\n",
       "    }\n",
       "\n",
       "    .dataframe thead th {\n",
       "        text-align: right;\n",
       "    }\n",
       "</style>\n",
       "<table border=\"1\" class=\"dataframe\">\n",
       "  <thead>\n",
       "    <tr style=\"text-align: right;\">\n",
       "      <th></th>\n",
       "      <th>sepal length (cm)</th>\n",
       "      <th>sepal width (cm)</th>\n",
       "      <th>petal length (cm)</th>\n",
       "      <th>petal width (cm)</th>\n",
       "      <th>class</th>\n",
       "    </tr>\n",
       "  </thead>\n",
       "  <tbody>\n",
       "    <tr>\n",
       "      <th>0</th>\n",
       "      <td>5.1</td>\n",
       "      <td>3.5</td>\n",
       "      <td>1.4</td>\n",
       "      <td>0.2</td>\n",
       "      <td>0</td>\n",
       "    </tr>\n",
       "    <tr>\n",
       "      <th>1</th>\n",
       "      <td>4.9</td>\n",
       "      <td>3.0</td>\n",
       "      <td>1.4</td>\n",
       "      <td>0.2</td>\n",
       "      <td>0</td>\n",
       "    </tr>\n",
       "    <tr>\n",
       "      <th>2</th>\n",
       "      <td>4.7</td>\n",
       "      <td>3.2</td>\n",
       "      <td>1.3</td>\n",
       "      <td>0.2</td>\n",
       "      <td>0</td>\n",
       "    </tr>\n",
       "    <tr>\n",
       "      <th>3</th>\n",
       "      <td>4.6</td>\n",
       "      <td>3.1</td>\n",
       "      <td>1.5</td>\n",
       "      <td>0.2</td>\n",
       "      <td>0</td>\n",
       "    </tr>\n",
       "    <tr>\n",
       "      <th>4</th>\n",
       "      <td>5.0</td>\n",
       "      <td>3.6</td>\n",
       "      <td>1.4</td>\n",
       "      <td>0.2</td>\n",
       "      <td>0</td>\n",
       "    </tr>\n",
       "  </tbody>\n",
       "</table>\n",
       "</div>"
      ],
      "text/plain": [
       "   sepal length (cm)  sepal width (cm)  petal length (cm)  petal width (cm)  \\\n",
       "0                5.1               3.5                1.4               0.2   \n",
       "1                4.9               3.0                1.4               0.2   \n",
       "2                4.7               3.2                1.3               0.2   \n",
       "3                4.6               3.1                1.5               0.2   \n",
       "4                5.0               3.6                1.4               0.2   \n",
       "\n",
       "   class  \n",
       "0      0  \n",
       "1      0  \n",
       "2      0  \n",
       "3      0  \n",
       "4      0  "
      ]
     },
     "execution_count": 26,
     "metadata": {},
     "output_type": "execute_result"
    }
   ],
   "source": [
    "from sklearn.datasets import load_iris\n",
    "import pandas as pd\n",
    "import numpy as np\n",
    "data = load_iris()\n",
    "iris = pd.DataFrame(data.data, columns=data.feature_names)\n",
    "iris['class'] = pd.Series(data.target)\n",
    "iris.head()"
   ]
  },
  {
   "cell_type": "code",
   "execution_count": 27,
   "id": "b079dc33",
   "metadata": {
    "tags": []
   },
   "outputs": [],
   "source": [
    "import skfuzzy as fuzz\n",
    "from skfuzzy import control as ctrl"
   ]
  },
  {
   "cell_type": "code",
   "execution_count": 28,
   "id": "dff2e7e5",
   "metadata": {},
   "outputs": [
    {
     "data": {
      "text/html": [
       "<div>\n",
       "<style scoped>\n",
       "    .dataframe tbody tr th:only-of-type {\n",
       "        vertical-align: middle;\n",
       "    }\n",
       "\n",
       "    .dataframe tbody tr th {\n",
       "        vertical-align: top;\n",
       "    }\n",
       "\n",
       "    .dataframe thead th {\n",
       "        text-align: right;\n",
       "    }\n",
       "</style>\n",
       "<table border=\"1\" class=\"dataframe\">\n",
       "  <thead>\n",
       "    <tr style=\"text-align: right;\">\n",
       "      <th></th>\n",
       "      <th>sepal_length</th>\n",
       "      <th>sepal_width</th>\n",
       "      <th>petal_length</th>\n",
       "      <th>petal_width</th>\n",
       "      <th>cls</th>\n",
       "    </tr>\n",
       "  </thead>\n",
       "  <tbody>\n",
       "    <tr>\n",
       "      <th>0</th>\n",
       "      <td>5.1</td>\n",
       "      <td>3.5</td>\n",
       "      <td>1.4</td>\n",
       "      <td>0.2</td>\n",
       "      <td>0</td>\n",
       "    </tr>\n",
       "    <tr>\n",
       "      <th>1</th>\n",
       "      <td>4.9</td>\n",
       "      <td>3.0</td>\n",
       "      <td>1.4</td>\n",
       "      <td>0.2</td>\n",
       "      <td>0</td>\n",
       "    </tr>\n",
       "    <tr>\n",
       "      <th>2</th>\n",
       "      <td>4.7</td>\n",
       "      <td>3.2</td>\n",
       "      <td>1.3</td>\n",
       "      <td>0.2</td>\n",
       "      <td>0</td>\n",
       "    </tr>\n",
       "    <tr>\n",
       "      <th>3</th>\n",
       "      <td>4.6</td>\n",
       "      <td>3.1</td>\n",
       "      <td>1.5</td>\n",
       "      <td>0.2</td>\n",
       "      <td>0</td>\n",
       "    </tr>\n",
       "    <tr>\n",
       "      <th>4</th>\n",
       "      <td>5.0</td>\n",
       "      <td>3.6</td>\n",
       "      <td>1.4</td>\n",
       "      <td>0.2</td>\n",
       "      <td>0</td>\n",
       "    </tr>\n",
       "  </tbody>\n",
       "</table>\n",
       "</div>"
      ],
      "text/plain": [
       "   sepal_length  sepal_width  petal_length  petal_width  cls\n",
       "0           5.1          3.5           1.4          0.2    0\n",
       "1           4.9          3.0           1.4          0.2    0\n",
       "2           4.7          3.2           1.3          0.2    0\n",
       "3           4.6          3.1           1.5          0.2    0\n",
       "4           5.0          3.6           1.4          0.2    0"
      ]
     },
     "execution_count": 28,
     "metadata": {},
     "output_type": "execute_result"
    }
   ],
   "source": [
    "renames = {name: name.replace(' (cm)', '').replace(' ', '_') for name in iris.columns}\n",
    "renames['class'] = 'cls'\n",
    "iris = iris.rename(columns=renames)\n",
    "iris.head()"
   ]
  },
  {
   "cell_type": "code",
   "execution_count": 29,
   "id": "f5a9a59a",
   "metadata": {},
   "outputs": [],
   "source": [
    "petal_length = ctrl.Antecedent(np.linspace(1.0, 7.0, 11), 'petal_length')\n",
    "petal_width = ctrl.Antecedent(np.linspace(0.0, 2.5, 11), 'petal_width')\n",
    "petal_length.automf(names=\"short medium long\".split())\n",
    "petal_width.automf(names=\"narrow medium wide\".split())"
   ]
  },
  {
   "cell_type": "code",
   "execution_count": 30,
   "id": "dcdf2cbe",
   "metadata": {},
   "outputs": [],
   "source": [
    "petal_width.view()"
   ]
  },
  {
   "cell_type": "code",
   "execution_count": 31,
   "id": "c9a33df7",
   "metadata": {},
   "outputs": [],
   "source": [
    "# Creating a consequent variable for each iris type, with a single membership term 'likely'\n",
    "\n",
    "setosa = ctrl.Consequent(np.linspace(0, 1, 10), 'setosa', \"som\")\n",
    "setosa['likely'] = fuzz.trimf(setosa.universe, (0., 1., 1.))\n",
    "\n",
    "versicolor = ctrl.Consequent(np.linspace(0, 1, 10), 'versicolor', \"som\")\n",
    "versicolor['likely'] = fuzz.trimf(versicolor.universe, (0., 1., 1.))\n",
    "\n",
    "verginica = ctrl.Consequent(np.linspace(0, 1, 10), 'verginica', \"som\")\n",
    "verginica['likely'] = fuzz.trimf(verginica.universe, (0., 1., 1.))\n"
   ]
  },
  {
   "cell_type": "code",
   "execution_count": 32,
   "id": "3ad714ab",
   "metadata": {},
   "outputs": [],
   "source": [
    "# create rules\n",
    "\n",
    "rule1 = ctrl.Rule(petal_width['narrow'] & petal_length['short'], setosa['likely'])\n",
    "rule2 = ctrl.Rule(petal_width['medium'] & petal_length['medium'], versicolor['likely'])\n",
    "rule3 = ctrl.Rule(petal_width['wide'] & petal_length['long'], verginica['likely'])"
   ]
  },
  {
   "cell_type": "code",
   "execution_count": 33,
   "id": "c3c98f60",
   "metadata": {},
   "outputs": [],
   "source": [
    "iris_ctrl = ctrl.ControlSystem([rule1, rule2, rule3])\n",
    "iris_classifier = ctrl.ControlSystemSimulation(iris_ctrl)"
   ]
  },
  {
   "cell_type": "code",
   "execution_count": 34,
   "id": "57a1c286",
   "metadata": {
    "tags": []
   },
   "outputs": [
    {
     "name": "stdout",
     "output_type": "stream",
     "text": [
      "CPU times: user 99 ms, sys: 8 ms, total: 107 ms\n",
      "Wall time: 101 ms\n"
     ]
    }
   ],
   "source": [
    "%%time\n",
    "predicted = []\n",
    "for (plength, pwidth) in zip (iris.petal_length, iris.petal_width):\n",
    "    iris_classifier.inputs({'petal_length': plength, 'petal_width': pwidth})\n",
    "    iris_classifier.compute()\n",
    "    predicted.append(np.argmax([iris_classifier.output['setosa'], iris_classifier.output['versicolor'], iris_classifier.output['verginica']]))"
   ]
  },
  {
   "cell_type": "code",
   "execution_count": 23,
   "id": "97bc4564",
   "metadata": {},
   "outputs": [
    {
     "data": {
      "text/plain": [
       "array([[50,  0,  0],\n",
       "       [ 0, 50,  0],\n",
       "       [ 0, 20, 30]])"
      ]
     },
     "execution_count": 23,
     "metadata": {},
     "output_type": "execute_result"
    }
   ],
   "source": [
    "from sklearn.metrics import confusion_matrix\n",
    "confusion_matrix(iris.cls, predicted)"
   ]
  },
  {
   "cell_type": "code",
   "execution_count": null,
   "id": "3aae95d1",
   "metadata": {},
   "outputs": [],
   "source": []
  },
  {
   "cell_type": "code",
   "execution_count": 38,
   "id": "9b3f331b-20d8-47e6-b6f3-0abc4818597e",
   "metadata": {},
   "outputs": [],
   "source": [
    "%matplotlib qt5\n",
    "import numpy as np\n",
    "import matplotlib.pyplot as plt\n",
    "plt.figure(figsize=(20, 10))\n",
    "height = ctrl.Antecedent(np.linspace(100, 250, 100), \"height (cm)\")\n",
    "height.automf(names=\"tiny short average tall giant\".split())\n",
    "height.view()\n"
   ]
  },
  {
   "cell_type": "code",
   "execution_count": 9,
   "id": "53f0a2de-73d7-4700-8dbb-f09d4b2083d9",
   "metadata": {},
   "outputs": [
    {
     "data": {
      "text/plain": [
       "\u001b[0;31mSignature:\u001b[0m \u001b[0mheight\u001b[0m\u001b[0;34m.\u001b[0m\u001b[0mview\u001b[0m\u001b[0;34m(\u001b[0m\u001b[0;34m*\u001b[0m\u001b[0margs\u001b[0m\u001b[0;34m,\u001b[0m \u001b[0;34m**\u001b[0m\u001b[0mkwargs\u001b[0m\u001b[0;34m)\u001b[0m\u001b[0;34m\u001b[0m\u001b[0;34m\u001b[0m\u001b[0m\n",
       "\u001b[0;31mDocstring:\u001b[0m <no docstring>\n",
       "\u001b[0;31mFile:\u001b[0m      ~/anaconda3/envs/eff/lib/python3.9/site-packages/skfuzzy/control/fuzzyvariable.py\n",
       "\u001b[0;31mType:\u001b[0m      method\n"
      ]
     },
     "metadata": {},
     "output_type": "display_data"
    }
   ],
   "source": [
    "height.view?"
   ]
  },
  {
   "cell_type": "code",
   "execution_count": 35,
   "id": "a7174505-c4d1-43d6-9d46-7fcedc34ee2b",
   "metadata": {},
   "outputs": [
    {
     "data": {
      "text/plain": [
       "(<Figure size 640x480 with 1 Axes>, <AxesSubplot:>)"
      ]
     },
     "execution_count": 35,
     "metadata": {},
     "output_type": "execute_result"
    }
   ],
   "source": [
    "rule1.view()"
   ]
  },
  {
   "cell_type": "code",
   "execution_count": 37,
   "id": "4860c722-78f2-4e62-ae51-f2329bbcaf83",
   "metadata": {},
   "outputs": [],
   "source": [
    "setosa.view()"
   ]
  }
 ],
 "metadata": {
  "kernelspec": {
   "display_name": "Python 3 (ipykernel)",
   "language": "python",
   "name": "python3"
  },
  "language_info": {
   "codemirror_mode": {
    "name": "ipython",
    "version": 3
   },
   "file_extension": ".py",
   "mimetype": "text/x-python",
   "name": "python",
   "nbconvert_exporter": "python",
   "pygments_lexer": "ipython3",
   "version": "3.9.0"
  }
 },
 "nbformat": 4,
 "nbformat_minor": 5
}
