{
 "cells": [
  {
   "cell_type": "markdown",
   "id": "ca189a2d",
   "metadata": {},
   "source": [
    "# DEAP fuzzy chromosome experimentation\n",
    "Experimenting with creating a chromosome to represent a fuzzy rule."
   ]
  },
  {
   "cell_type": "code",
   "execution_count": 1,
   "id": "9092a3b0",
   "metadata": {},
   "outputs": [],
   "source": [
    "from deap import creator, base, algorithms, gp, tools\n",
    "import random\n",
    "import matplotlib.pyplot as plt\n",
    "import seaborn as sns\n",
    "\n",
    "import skfuzzy as fuzz\n",
    "from skfuzzy import control as ctrl\n",
    "from skfuzzy.control import Rule \n",
    "from skfuzzy.control.term import Term\n",
    "import random\n",
    "import operator\n",
    "import numpy as np\n"
   ]
  },
  {
   "cell_type": "markdown",
   "id": "0d195365",
   "metadata": {},
   "source": [
    "# Define the primitive set for a fuzzy rule"
   ]
  },
  {
   "cell_type": "code",
   "execution_count": 2,
   "id": "c3741cf5",
   "metadata": {},
   "outputs": [],
   "source": [
    "def noop(x): return x\n",
    "\n",
    "def makePrimitiveSet(antecendents, consequents):\n",
    "    class make_consequents:\n",
    "        def __init__(self):\n",
    "            self.cons_terms = []\n",
    "            for cons in consequents:\n",
    "                for name in cons.terms.keys():\n",
    "                    self.cons_terms.append(f\"{cons.label}['{name}']\")\n",
    "            self.value = random.choice(self.cons_terms)\n",
    "        def __repr__(self):\n",
    "            return f\"[{self.value}]\"\n",
    "    \n",
    "    pset = gp.PrimitiveSetTyped(\"Rule\", [], Rule)\n",
    "    \n",
    "    for ant in antecendents:\n",
    "        pset.context[ant.label] = ant\n",
    "        for name, term in ant.terms.items(): \n",
    "            pset.addTerminal(term, Term, f\"{ant.label}['{name}']\")\n",
    "\n",
    "    for cons in consequents:\n",
    "        pset.context[cons.label] = cons\n",
    "            \n",
    "    pset.addEphemeralConstant(\"consequents\", make_consequents, list)\n",
    "    pset.addPrimitive(Rule, [Term, list], Rule)\n",
    "    pset.addPrimitive(operator.and_, [Term, Term], Term)\n",
    "    pset.addPrimitive(operator.or_, [Term, Term], Term)\n",
    "    pset.addPrimitive(operator.invert, [Term], Term)\n",
    "    pset.addPrimitive(noop, [list], list)\n",
    "    \n",
    "    return pset\n"
   ]
  },
  {
   "cell_type": "markdown",
   "id": "d2cc65ee",
   "metadata": {},
   "source": [
    "# Create the Antecedents and Consequents"
   ]
  },
  {
   "cell_type": "code",
   "execution_count": 3,
   "id": "6e1a28fa",
   "metadata": {},
   "outputs": [],
   "source": [
    "petal_length = ctrl.Antecedent(np.linspace(1.0, 7.0, 11), 'petal_length')\n",
    "petal_width = ctrl.Antecedent(np.linspace(0.0, 2.5, 11), 'petal_width')\n",
    "petal_length.automf(names=\"short medium long\".split())\n",
    "petal_width.automf(names=\"narrow medium wide\".split())\n",
    "\n",
    "setosa = ctrl.Consequent(np.linspace(0, 1, 10), 'setosa', \"som\")\n",
    "setosa['likely'] = fuzz.trimf(setosa.universe, (0., 1., 1.))\n",
    "\n",
    "versicolor = ctrl.Consequent(np.linspace(0, 1, 10), 'versicolor', \"som\")\n",
    "versicolor['likely'] = fuzz.trimf(versicolor.universe, (0., 1., 1.))\n",
    "\n",
    "verginica = ctrl.Consequent(np.linspace(0, 1, 10), 'verginica', \"som\")\n",
    "verginica['likely'] = fuzz.trimf(verginica.universe, (0., 1., 1.))\n",
    "\n",
    "pset = makePrimitiveSet([petal_length, petal_width], [setosa, versicolor, verginica])\n"
   ]
  },
  {
   "cell_type": "markdown",
   "id": "fb02a6a6",
   "metadata": {},
   "source": [
    "# Define constants "
   ]
  },
  {
   "cell_type": "code",
   "execution_count": 4,
   "id": "d4a33f73",
   "metadata": {},
   "outputs": [],
   "source": [
    "POP_SIZE = 100\n",
    "P_CROSSOVER = 0.9\n",
    "P_MUTATION = 0.5\n",
    "MAX_GENERATIONS = 30\n",
    "HOF_SIZE = 10\n",
    "\n",
    "MIN_TREE_HEIGHT = 1\n",
    "MAX_TREE_HEIGHT = 3\n",
    "MUT_MIN_TREE_HEIGHT = 0\n",
    "MUT_MAX_TREE_HEIGHT = 3\n",
    "LIMIT_TREE_HEIGHT = 17"
   ]
  },
  {
   "cell_type": "markdown",
   "id": "9b6639d3",
   "metadata": {},
   "source": [
    "# Define compile func, Individual class, select and mate operators etc"
   ]
  },
  {
   "cell_type": "code",
   "execution_count": 27,
   "id": "27524c4e",
   "metadata": {},
   "outputs": [
    {
     "name": "stderr",
     "output_type": "stream",
     "text": [
      "/home/dave/anaconda3/envs/eff/lib/python3.9/site-packages/deap/creator.py:138: RuntimeWarning: A class named 'FitnessMin' has already been created and it will be overwritten. Consider deleting previous creation of that class or rename it.\n",
      "  warnings.warn(\"A class named '{0}' has already been created and it \"\n",
      "/home/dave/anaconda3/envs/eff/lib/python3.9/site-packages/deap/creator.py:138: RuntimeWarning: A class named 'Individual' has already been created and it will be overwritten. Consider deleting previous creation of that class or rename it.\n",
      "  warnings.warn(\"A class named '{0}' has already been created and it \"\n"
     ]
    }
   ],
   "source": [
    "toolbox = base.Toolbox()\n",
    "\n",
    "toolbox.register(\"compile\", gp.compile, pset=pset)\n",
    "\n",
    "toolbox.register(\"select\", tools.selTournament, tournsize=2)\n",
    "toolbox.register(\"mate\", gp.cxOnePoint)\n",
    "toolbox.register(\"expr_mut\", gp.genFull, min_=MUT_MIN_TREE_HEIGHT, max_=MUT_MAX_TREE_HEIGHT)\n",
    "toolbox.register(\"mutate\", gp.mutUniform, expr=toolbox.expr_mut, pset=pset)\n",
    "toolbox.decorate(\"mate\", gp.staticLimit(key=operator.attrgetter(\"height\"), max_value=LIMIT_TREE_HEIGHT))\n",
    "toolbox.decorate(\"mutate\", gp.staticLimit(key=operator.attrgetter(\"height\"), max_value=LIMIT_TREE_HEIGHT))\n",
    "\n",
    "def genRuleSet(pset, min_, max_, type_=None):\n",
    "    len = random.randint(2, 5)\n",
    "    return [gp.PrimitiveTree(gp.genFull(pset, min_, max_, type_)) for _ in range(len)]\n",
    "\n",
    "creator.create(\"FitnessMin\", base.Fitness, weights=(-1.,))\n",
    "creator.create(\"Individual\", list, fitness=creator.FitnessMin, pset=pset)\n",
    "toolbox.register(\"expr\", genRuleSet, pset=pset, min_=MIN_TREE_HEIGHT, max_=MAX_TREE_HEIGHT)\n",
    "toolbox.register(\"individualCreator\", tools.initIterate, creator.Individual, toolbox.expr)\n",
    "toolbox.register(\"populationCreator\", tools.initRepeat, list, toolbox.individualCreator)"
   ]
  },
  {
   "cell_type": "code",
   "execution_count": 28,
   "id": "e249e954",
   "metadata": {},
   "outputs": [
    {
     "data": {
      "text/plain": [
       "[IF (NOT-petal_length[long]) AND (petal_length[short] AND petal_length[short]) THEN versicolor[likely]\n",
       " \tAND aggregation function : fmin\n",
       " \tOR aggregation function  : fmax,\n",
       " IF (petal_width[wide] OR petal_length[medium]) OR (NOT-petal_length[long]) THEN setosa[likely]\n",
       " \tAND aggregation function : fmin\n",
       " \tOR aggregation function  : fmax,\n",
       " IF petal_width[wide] THEN versicolor[likely]\n",
       " \tAND aggregation function : fmin\n",
       " \tOR aggregation function  : fmax,\n",
       " IF petal_width[medium] OR petal_width[wide] THEN verginica[likely]\n",
       " \tAND aggregation function : fmin\n",
       " \tOR aggregation function  : fmax,\n",
       " IF petal_length[short] OR petal_width[wide] THEN verginica[likely]\n",
       " \tAND aggregation function : fmin\n",
       " \tOR aggregation function  : fmax]"
      ]
     },
     "execution_count": 28,
     "metadata": {},
     "output_type": "execute_result"
    }
   ],
   "source": [
    "i = toolbox.individualCreator()\n",
    "# i\n",
    "[toolbox.compile(x) for x in i]"
   ]
  },
  {
   "cell_type": "markdown",
   "id": "72d60885",
   "metadata": {},
   "source": [
    "# Experimenting with the FuzzyClassifer class"
   ]
  },
  {
   "cell_type": "code",
   "execution_count": 2,
   "id": "3dc8d6d4",
   "metadata": {},
   "outputs": [
    {
     "name": "stdout",
     "output_type": "stream",
     "text": [
      "gen\tnevals\tmin      \tavg  \n",
      "0  \t20    \t0.0333333\t0.333\n",
      "1  \t17    \t0        \t0.214333\n",
      "2  \t20    \t0        \t0.176667\n",
      "3  \t20    \t0        \t0.106333\n",
      "4  \t20    \t0        \t0.207   \n",
      "5  \t20    \t0        \t0.162   \n",
      "6  \t18    \t0        \t0.109333\n",
      "7  \t20    \t0        \t0.0753333\n",
      "8  \t16    \t0        \t0.029    \n",
      "9  \t20    \t0        \t0.155333 \n",
      "10 \t20    \t0        \t0.161333 \n",
      "11 \t16    \t0        \t0.112    \n",
      "12 \t18    \t0        \t0.0513333\n",
      "13 \t20    \t0        \t0.0403333\n",
      "14 \t20    \t0        \t0.0823333\n",
      "15 \t19    \t0        \t0.0296667\n",
      "16 \t16    \t0        \t0.0743333\n",
      "17 \t20    \t0        \t0.102667 \n",
      "18 \t16    \t0        \t0.111667 \n",
      "19 \t20    \t0        \t0.068    \n",
      "20 \t12    \t0        \t0.0346667\n",
      "CPU times: user 1min 4s, sys: 275 ms, total: 1min 4s\n",
      "Wall time: 1min 4s\n"
     ]
    },
    {
     "data": {
      "text/plain": [
       "FuzzyClassifier(hall_of_fame_size=3, max_generation=20, population_size=20)"
      ]
     },
     "execution_count": 2,
     "metadata": {},
     "output_type": "execute_result"
    }
   ],
   "source": [
    "%%time\n",
    "from evofuzzy import fuzzyclassifier\n",
    "from sklearn.datasets import load_iris\n",
    "import pandas as pd\n",
    "\n",
    "classifier = fuzzyclassifier.FuzzyClassifier(\n",
    "    population_size=20, \n",
    "    hall_of_fame_size=3,\n",
    "    max_generation=20\n",
    ")\n",
    "\n",
    "data = load_iris()\n",
    "cols = [c.replace(' ', '_').replace(\"_(cm)\", \"\") for c in data.feature_names]\n",
    "iris = pd.DataFrame(data.data, columns=cols)\n",
    "y = pd.Series(data.target)\n",
    "classes = {name: val for (name, val) in zip(data.target_names, range(3))}\n",
    "classifier.fit(iris, y, classes)\n"
   ]
  },
  {
   "cell_type": "code",
   "execution_count": null,
   "id": "e5f8f114",
   "metadata": {},
   "outputs": [],
   "source": []
  }
 ],
 "metadata": {
  "kernelspec": {
   "display_name": "Python 3",
   "language": "python",
   "name": "python3"
  },
  "language_info": {
   "codemirror_mode": {
    "name": "ipython",
    "version": 3
   },
   "file_extension": ".py",
   "mimetype": "text/x-python",
   "name": "python",
   "nbconvert_exporter": "python",
   "pygments_lexer": "ipython3",
   "version": "3.9.4"
  }
 },
 "nbformat": 4,
 "nbformat_minor": 5
}
