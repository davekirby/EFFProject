{
 "cells": [
  {
   "cell_type": "markdown",
   "id": "f4a6d251",
   "metadata": {},
   "source": [
    "# DEAP fuzzy chromosome experimentation\n",
    "Experimenting with creating a chromosome to represent a fuzzy rule."
   ]
  },
  {
   "cell_type": "code",
   "execution_count": 1,
   "id": "b3fb55ff",
   "metadata": {},
   "outputs": [],
   "source": [
    "from deap import creator, base, algorithms, gp, tools\n",
    "import random\n",
    "import matplotlib.pyplot as plt\n",
    "import seaborn as sns\n",
    "\n",
    "import skfuzzy as fuzz\n",
    "from skfuzzy import control as ctrl\n",
    "from skfuzzy.control import Rule \n",
    "from skfuzzy.control.term import Term\n",
    "import random\n",
    "import operator\n",
    "import numpy as np\n"
   ]
  },
  {
   "cell_type": "markdown",
   "id": "aef2e093",
   "metadata": {},
   "source": [
    "# Define the primitive set for a fuzzy rule"
   ]
  },
  {
   "cell_type": "code",
   "execution_count": 2,
   "id": "5d853bf5",
   "metadata": {},
   "outputs": [],
   "source": [
    "def noop(x): return x\n",
    "\n",
    "def makePrimitiveSet(antecendents, consequents):\n",
    "    class make_consequents:\n",
    "        def __init__(self):\n",
    "            self.cons_terms = []\n",
    "            for cons in consequents:\n",
    "                for name in cons.terms.keys():\n",
    "                    self.cons_terms.append(f\"{cons.label}['{name}']\")\n",
    "            self.value = random.choice(self.cons_terms)\n",
    "        def __repr__(self):\n",
    "            return f\"[{self.value}]\"\n",
    "    \n",
    "    pset = gp.PrimitiveSetTyped(\"Rule\", [], Rule)\n",
    "    \n",
    "    for ant in antecendents:\n",
    "        pset.context[ant.label] = ant\n",
    "        for name, term in ant.terms.items(): \n",
    "            pset.addTerminal(term, Term, f\"{ant.label}['{name}']\")\n",
    "\n",
    "    for cons in consequents:\n",
    "        pset.context[cons.label] = cons\n",
    "            \n",
    "    pset.addEphemeralConstant(\"consequents\", make_consequents, list)\n",
    "    pset.addPrimitive(Rule, [Term, list], Rule)\n",
    "    pset.addPrimitive(operator.and_, [Term, Term], Term)\n",
    "    pset.addPrimitive(operator.or_, [Term, Term], Term)\n",
    "    pset.addPrimitive(operator.invert, [Term], Term)\n",
    "    pset.addPrimitive(noop, [list], list)\n",
    "    \n",
    "    return pset\n"
   ]
  },
  {
   "cell_type": "markdown",
   "id": "042c304d",
   "metadata": {},
   "source": [
    "# Create the Antecedents and Consequents"
   ]
  },
  {
   "cell_type": "code",
   "execution_count": 3,
   "id": "025dcf6c",
   "metadata": {},
   "outputs": [],
   "source": [
    "petal_length = ctrl.Antecedent(np.linspace(1.0, 7.0, 11), 'petal_length')\n",
    "petal_width = ctrl.Antecedent(np.linspace(0.0, 2.5, 11), 'petal_width')\n",
    "petal_length.automf(names=\"short medium long\".split())\n",
    "petal_width.automf(names=\"narrow medium wide\".split())\n",
    "\n",
    "setosa = ctrl.Consequent(np.linspace(0, 1, 10), 'setosa', \"som\")\n",
    "setosa['likely'] = fuzz.trimf(setosa.universe, (0., 1., 1.))\n",
    "\n",
    "versicolor = ctrl.Consequent(np.linspace(0, 1, 10), 'versicolor', \"som\")\n",
    "versicolor['likely'] = fuzz.trimf(versicolor.universe, (0., 1., 1.))\n",
    "\n",
    "verginica = ctrl.Consequent(np.linspace(0, 1, 10), 'verginica', \"som\")\n",
    "verginica['likely'] = fuzz.trimf(verginica.universe, (0., 1., 1.))\n",
    "\n",
    "pset = makePrimitiveSet([petal_length, petal_width], [setosa, versicolor, verginica])\n"
   ]
  },
  {
   "cell_type": "markdown",
   "id": "384e60fd",
   "metadata": {},
   "source": [
    "# Define constants "
   ]
  },
  {
   "cell_type": "code",
   "execution_count": 20,
   "id": "ebb766db",
   "metadata": {},
   "outputs": [],
   "source": [
    "POP_SIZE = 100\n",
    "P_CROSSOVER = 0.9\n",
    "P_MUTATION = 0.5\n",
    "MAX_GENERATIONS = 30\n",
    "HOF_SIZE = 10\n",
    "\n",
    "MIN_TREE_HEIGHT = 1\n",
    "MAX_TREE_HEIGHT = 3\n",
    "MUT_MIN_TREE_HEIGHT = 0\n",
    "MUT_MAX_TREE_HEIGHT = 3\n",
    "LIMIT_TREE_HEIGHT = 17"
   ]
  },
  {
   "cell_type": "markdown",
   "id": "78879053",
   "metadata": {},
   "source": [
    "# Define compile func, Individual class, select and mate operators etc"
   ]
  },
  {
   "cell_type": "code",
   "execution_count": 26,
   "id": "b30dd28b",
   "metadata": {},
   "outputs": [],
   "source": [
    "toolbox = base.Toolbox()\n",
    "\n",
    "toolbox.register(\"compile\", gp.compile, pset=pset)\n",
    "\n",
    "toolbox.register(\"select\", tools.selTournament, tournsize=2)\n",
    "toolbox.register(\"mate\", gp.cxOnePoint)\n",
    "toolbox.register(\"expr_mut\", gp.genFull, min_=MUT_MIN_TREE_HEIGHT, max_=MUT_MAX_TREE_HEIGHT)\n",
    "toolbox.register(\"mutate\", gp.mutUniform, expr=toolbox.expr_mut, pset=pset)\n",
    "toolbox.decorate(\"mate\", gp.staticLimit(key=operator.attrgetter(\"height\"), max_value=LIMIT_TREE_HEIGHT))\n",
    "toolbox.decorate(\"mutate\", gp.staticLimit(key=operator.attrgetter(\"height\"), max_value=LIMIT_TREE_HEIGHT))\n",
    "\n",
    "creator.create(\"FitnessMin\", base.Fitness, weights=(-1.,))\n",
    "creator.create(\"Individual\", gp.PrimitiveTree, fitness=creator.FitnessMin)\n",
    "toolbox.register(\"expr\", gp.genFull, pset=pset, min_=MIN_TREE_HEIGHT, max_=MAX_TREE_HEIGHT)\n",
    "toolbox.register(\"individualCreator\", tools.initIterate, creator.Individual, toolbox.expr)\n",
    "toolbox.register(\"populationCreator\", tools.initRepeat, list, toolbox.individualCreator)"
   ]
  },
  {
   "cell_type": "code",
   "execution_count": 27,
   "id": "4e7d4a83",
   "metadata": {},
   "outputs": [
    {
     "name": "stdout",
     "output_type": "stream",
     "text": [
      "Rule(or_(petal_length['long'], petal_length['short']), noop([setosa['likely']]))\n"
     ]
    },
    {
     "data": {
      "text/plain": [
       "IF petal_length[long] OR petal_length[short] THEN setosa[likely]\n",
       "\tAND aggregation function : fmin\n",
       "\tOR aggregation function  : fmax"
      ]
     },
     "execution_count": 27,
     "metadata": {},
     "output_type": "execute_result"
    }
   ],
   "source": [
    "i = toolbox.individualCreator()\n",
    "print(i)\n",
    "toolbox.compile(i)"
   ]
  },
  {
   "cell_type": "code",
   "execution_count": 8,
   "id": "fbe53404",
   "metadata": {},
   "outputs": [
    {
     "data": {
      "text/plain": [
       "[<deap.gp.Primitive at 0x7f6bac2d5310>,\n",
       " <deap.gp.Primitive at 0x7f6bac2d5360>,\n",
       " <deap.gp.Primitive at 0x7f6bac2d5400>,\n",
       " <deap.gp.Primitive at 0x7f6bac2d5360>,\n",
       " <deap.gp.Primitive at 0x7f6bac2d5400>,\n",
       " <deap.gp.Terminal at 0x7f6bac2d2940>,\n",
       " <deap.gp.Primitive at 0x7f6bac2d53b0>,\n",
       " <deap.gp.Terminal at 0x7f6bac2d6040>,\n",
       " <deap.gp.Terminal at 0x7f6bac2d2f80>,\n",
       " <deap.gp.Primitive at 0x7f6bac2d5400>,\n",
       " <deap.gp.Primitive at 0x7f6bac2d53b0>,\n",
       " <deap.gp.Primitive at 0x7f6bac2d5360>,\n",
       " <deap.gp.Terminal at 0x7f6bac2bf600>,\n",
       " <deap.gp.Terminal at 0x7f6bac2d2940>,\n",
       " <deap.gp.Primitive at 0x7f6bac2d5400>,\n",
       " <deap.gp.Terminal at 0x7f6bac2d2f80>,\n",
       " <deap.gp.Primitive at 0x7f6bac2d5450>,\n",
       " <deap.gp.Primitive at 0x7f6bac2d5450>,\n",
       " <deap.gp.Primitive at 0x7f6bac2d5450>,\n",
       " <deap.gp.Primitive at 0x7f6bac2d5450>,\n",
       " <deap.gp.consequents at 0x7f6bac2d5e50>]"
      ]
     },
     "execution_count": 8,
     "metadata": {},
     "output_type": "execute_result"
    }
   ],
   "source": [
    "list(i)"
   ]
  },
  {
   "cell_type": "code",
   "execution_count": null,
   "id": "af85f58c",
   "metadata": {},
   "outputs": [],
   "source": []
  }
 ],
 "metadata": {
  "kernelspec": {
   "display_name": "Python 3",
   "language": "python",
   "name": "python3"
  },
  "language_info": {
   "codemirror_mode": {
    "name": "ipython",
    "version": 3
   },
   "file_extension": ".py",
   "mimetype": "text/x-python",
   "name": "python",
   "nbconvert_exporter": "python",
   "pygments_lexer": "ipython3",
   "version": "3.9.4"
  }
 },
 "nbformat": 4,
 "nbformat_minor": 5
}
