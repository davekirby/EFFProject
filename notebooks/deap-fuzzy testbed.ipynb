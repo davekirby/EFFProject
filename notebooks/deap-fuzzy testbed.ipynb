{
 "cells": [
  {
   "cell_type": "markdown",
   "id": "ab3d7150",
   "metadata": {},
   "source": [
    "# DEAP fuzzy chromosome experimentation\n",
    "Experimenting with creating a chromosome to represent a fuzzy rule."
   ]
  },
  {
   "cell_type": "code",
   "execution_count": 1,
   "id": "06a35006",
   "metadata": {},
   "outputs": [],
   "source": [
    "from deap import creator, base, algorithms, gp, tools\n",
    "import random\n",
    "import matplotlib.pyplot as plt\n",
    "import seaborn as sns\n",
    "\n",
    "import skfuzzy as fuzz\n",
    "from skfuzzy import control as ctrl\n",
    "from skfuzzy.control import Rule \n",
    "from skfuzzy.control.term import Term\n",
    "import random\n",
    "import operator\n",
    "import numpy as np\n"
   ]
  },
  {
   "cell_type": "markdown",
   "id": "de6ebd17",
   "metadata": {},
   "source": [
    "# Define the primitive set for a fuzzy rule"
   ]
  },
  {
   "cell_type": "code",
   "execution_count": 2,
   "id": "f78d7634",
   "metadata": {},
   "outputs": [],
   "source": [
    "def noop(x): return x\n",
    "\n",
    "def makePrimitiveSet(antecendents, consequents):\n",
    "    class make_consequents:\n",
    "        def __init__(self):\n",
    "            self.cons_terms = []\n",
    "            for cons in consequents:\n",
    "                for name in cons.terms.keys():\n",
    "                    self.cons_terms.append(f\"{cons.label}['{name}']\")\n",
    "            self.value = random.choice(self.cons_terms)\n",
    "        def __repr__(self):\n",
    "            return f\"[{self.value}]\"\n",
    "    \n",
    "    pset = gp.PrimitiveSetTyped(\"Rule\", [], Rule)\n",
    "    \n",
    "    for ant in antecendents:\n",
    "        pset.context[ant.label] = ant\n",
    "        for name, term in ant.terms.items(): \n",
    "            pset.addTerminal(term, Term, f\"{ant.label}['{name}']\")\n",
    "\n",
    "    for cons in consequents:\n",
    "        pset.context[cons.label] = cons\n",
    "            \n",
    "    pset.addEphemeralConstant(\"consequents\", make_consequents, list)\n",
    "    pset.addPrimitive(Rule, [Term, list], Rule)\n",
    "    pset.addPrimitive(operator.and_, [Term, Term], Term)\n",
    "    pset.addPrimitive(operator.or_, [Term, Term], Term)\n",
    "    pset.addPrimitive(operator.invert, [Term], Term)\n",
    "    pset.addPrimitive(noop, [list], list)\n",
    "    \n",
    "    return pset\n"
   ]
  },
  {
   "cell_type": "markdown",
   "id": "7a887efe",
   "metadata": {},
   "source": [
    "# Create the Antecedents and Consequents"
   ]
  },
  {
   "cell_type": "code",
   "execution_count": 3,
   "id": "4a3798e8",
   "metadata": {},
   "outputs": [],
   "source": [
    "petal_length = ctrl.Antecedent(np.linspace(1.0, 7.0, 11), 'petal_length')\n",
    "petal_width = ctrl.Antecedent(np.linspace(0.0, 2.5, 11), 'petal_width')\n",
    "petal_length.automf(names=\"short medium long\".split())\n",
    "petal_width.automf(names=\"narrow medium wide\".split())\n",
    "\n",
    "setosa = ctrl.Consequent(np.linspace(0, 1, 10), 'setosa', \"som\")\n",
    "setosa['likely'] = fuzz.trimf(setosa.universe, (0., 1., 1.))\n",
    "\n",
    "versicolor = ctrl.Consequent(np.linspace(0, 1, 10), 'versicolor', \"som\")\n",
    "versicolor['likely'] = fuzz.trimf(versicolor.universe, (0., 1., 1.))\n",
    "\n",
    "verginica = ctrl.Consequent(np.linspace(0, 1, 10), 'verginica', \"som\")\n",
    "verginica['likely'] = fuzz.trimf(verginica.universe, (0., 1., 1.))\n",
    "\n",
    "pset = makePrimitiveSet([petal_length, petal_width], [setosa, versicolor, verginica])\n"
   ]
  },
  {
   "cell_type": "markdown",
   "id": "a83767d3",
   "metadata": {},
   "source": [
    "# Define constants "
   ]
  },
  {
   "cell_type": "code",
   "execution_count": 4,
   "id": "48a0b842",
   "metadata": {},
   "outputs": [],
   "source": [
    "POP_SIZE = 100\n",
    "P_CROSSOVER = 0.9\n",
    "P_MUTATION = 0.5\n",
    "MAX_GENERATIONS = 30\n",
    "HOF_SIZE = 10\n",
    "\n",
    "MIN_TREE_HEIGHT = 1\n",
    "MAX_TREE_HEIGHT = 3\n",
    "MUT_MIN_TREE_HEIGHT = 0\n",
    "MUT_MAX_TREE_HEIGHT = 3\n",
    "LIMIT_TREE_HEIGHT = 17"
   ]
  },
  {
   "cell_type": "markdown",
   "id": "6ddaa574",
   "metadata": {},
   "source": [
    "# Define compile func, Individual class, select and mate operators etc"
   ]
  },
  {
   "cell_type": "code",
   "execution_count": 27,
   "id": "80f5b5cb",
   "metadata": {},
   "outputs": [
    {
     "name": "stderr",
     "output_type": "stream",
     "text": [
      "/home/dave/anaconda3/envs/eff/lib/python3.9/site-packages/deap/creator.py:138: RuntimeWarning: A class named 'FitnessMin' has already been created and it will be overwritten. Consider deleting previous creation of that class or rename it.\n",
      "  warnings.warn(\"A class named '{0}' has already been created and it \"\n",
      "/home/dave/anaconda3/envs/eff/lib/python3.9/site-packages/deap/creator.py:138: RuntimeWarning: A class named 'Individual' has already been created and it will be overwritten. Consider deleting previous creation of that class or rename it.\n",
      "  warnings.warn(\"A class named '{0}' has already been created and it \"\n"
     ]
    }
   ],
   "source": [
    "toolbox = base.Toolbox()\n",
    "\n",
    "toolbox.register(\"compile\", gp.compile, pset=pset)\n",
    "\n",
    "toolbox.register(\"select\", tools.selTournament, tournsize=2)\n",
    "toolbox.register(\"mate\", gp.cxOnePoint)\n",
    "toolbox.register(\"expr_mut\", gp.genFull, min_=MUT_MIN_TREE_HEIGHT, max_=MUT_MAX_TREE_HEIGHT)\n",
    "toolbox.register(\"mutate\", gp.mutUniform, expr=toolbox.expr_mut, pset=pset)\n",
    "toolbox.decorate(\"mate\", gp.staticLimit(key=operator.attrgetter(\"height\"), max_value=LIMIT_TREE_HEIGHT))\n",
    "toolbox.decorate(\"mutate\", gp.staticLimit(key=operator.attrgetter(\"height\"), max_value=LIMIT_TREE_HEIGHT))\n",
    "\n",
    "def genRuleSet(pset, min_, max_, type_=None):\n",
    "    len = random.randint(2, 5)\n",
    "    return [gp.PrimitiveTree(gp.genFull(pset, min_, max_, type_)) for _ in range(len)]\n",
    "\n",
    "creator.create(\"FitnessMin\", base.Fitness, weights=(-1.,))\n",
    "creator.create(\"Individual\", list, fitness=creator.FitnessMin, pset=pset)\n",
    "toolbox.register(\"expr\", genRuleSet, pset=pset, min_=MIN_TREE_HEIGHT, max_=MAX_TREE_HEIGHT)\n",
    "toolbox.register(\"individualCreator\", tools.initIterate, creator.Individual, toolbox.expr)\n",
    "toolbox.register(\"populationCreator\", tools.initRepeat, list, toolbox.individualCreator)"
   ]
  },
  {
   "cell_type": "code",
   "execution_count": 28,
   "id": "bbfcfbc0",
   "metadata": {},
   "outputs": [
    {
     "data": {
      "text/plain": [
       "[IF (NOT-petal_length[long]) AND (petal_length[short] AND petal_length[short]) THEN versicolor[likely]\n",
       " \tAND aggregation function : fmin\n",
       " \tOR aggregation function  : fmax,\n",
       " IF (petal_width[wide] OR petal_length[medium]) OR (NOT-petal_length[long]) THEN setosa[likely]\n",
       " \tAND aggregation function : fmin\n",
       " \tOR aggregation function  : fmax,\n",
       " IF petal_width[wide] THEN versicolor[likely]\n",
       " \tAND aggregation function : fmin\n",
       " \tOR aggregation function  : fmax,\n",
       " IF petal_width[medium] OR petal_width[wide] THEN verginica[likely]\n",
       " \tAND aggregation function : fmin\n",
       " \tOR aggregation function  : fmax,\n",
       " IF petal_length[short] OR petal_width[wide] THEN verginica[likely]\n",
       " \tAND aggregation function : fmin\n",
       " \tOR aggregation function  : fmax]"
      ]
     },
     "execution_count": 28,
     "metadata": {},
     "output_type": "execute_result"
    }
   ],
   "source": [
    "i = toolbox.individualCreator()\n",
    "# i\n",
    "[toolbox.compile(x) for x in i]"
   ]
  },
  {
   "cell_type": "code",
   "execution_count": null,
   "id": "a3717398",
   "metadata": {},
   "outputs": [],
   "source": []
  }
 ],
 "metadata": {
  "kernelspec": {
   "display_name": "Python 3",
   "language": "python",
   "name": "python3"
  },
  "language_info": {
   "codemirror_mode": {
    "name": "ipython",
    "version": 3
   },
   "file_extension": ".py",
   "mimetype": "text/x-python",
   "name": "python",
   "nbconvert_exporter": "python",
   "pygments_lexer": "ipython3",
   "version": "3.9.4"
  }
 },
 "nbformat": 4,
 "nbformat_minor": 5
}
