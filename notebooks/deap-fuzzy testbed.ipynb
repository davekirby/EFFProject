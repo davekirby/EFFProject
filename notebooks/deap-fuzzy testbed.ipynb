{
 "cells": [
  {
   "cell_type": "markdown",
   "id": "bf0bd2b8",
   "metadata": {},
   "source": [
    "# DEAP fuzzy chromosome experimentation\n",
    "Experimenting with creating a chromosome to represent a fuzzy rule."
   ]
  },
  {
   "cell_type": "code",
   "execution_count": 1,
   "id": "90c882ee",
   "metadata": {},
   "outputs": [],
   "source": [
    "from deap import creator, base, algorithms, gp, tools\n",
    "import random\n",
    "import matplotlib.pyplot as plt\n",
    "import seaborn as sns\n",
    "\n",
    "import skfuzzy as fuzz\n",
    "from skfuzzy import control as ctrl\n",
    "from skfuzzy.control import Rule \n",
    "from skfuzzy.control.term import Term\n",
    "import random\n",
    "import operator\n",
    "import numpy as np\n"
   ]
  },
  {
   "cell_type": "markdown",
   "id": "701518a8",
   "metadata": {},
   "source": [
    "# Define the primitive set for a fuzzy rule"
   ]
  },
  {
   "cell_type": "code",
   "execution_count": 2,
   "id": "fb7a5419",
   "metadata": {},
   "outputs": [],
   "source": [
    "def noop(x): return x\n",
    "\n",
    "def makePrimitiveSet(antecendents, consequents):\n",
    "    class make_consequents:\n",
    "        def __init__(self):\n",
    "            self.cons_terms = []\n",
    "            for cons in consequents:\n",
    "                for name in cons.terms.keys():\n",
    "                    self.cons_terms.append(f\"{cons.label}['{name}']\") \n",
    "        def __repr__(self):\n",
    "            return f\"[{random.choice(self.cons_terms)}]\"\n",
    "    \n",
    "    pset = gp.PrimitiveSetTyped(\"Rule\", [], Rule)\n",
    "    \n",
    "    for ant in antecendents:\n",
    "        pset.context[ant.label] = ant\n",
    "        for name, term in ant.terms.items(): \n",
    "            pset.addTerminal(term, Term, f\"{ant.label}['{name}']\")\n",
    "\n",
    "    for cons in consequents:\n",
    "        pset.context[cons.label] = cons\n",
    "            \n",
    "    pset.addEphemeralConstant(\"consequents\", make_consequents, list)\n",
    "    pset.addPrimitive(Rule, [Term, list], Rule)\n",
    "    pset.addPrimitive(operator.and_, [Term, Term], Term)\n",
    "    pset.addPrimitive(operator.or_, [Term, Term], Term)\n",
    "    pset.addPrimitive(operator.invert, [Term], Term)\n",
    "    pset.addPrimitive(noop, [list], list)\n",
    "    \n",
    "    return pset\n"
   ]
  },
  {
   "cell_type": "markdown",
   "id": "2fbc173a",
   "metadata": {},
   "source": [
    "# Create the Antecedents and Consequents"
   ]
  },
  {
   "cell_type": "code",
   "execution_count": 3,
   "id": "4d7b4697",
   "metadata": {},
   "outputs": [],
   "source": [
    "petal_length = ctrl.Antecedent(np.linspace(1.0, 7.0, 11), 'petal_length')\n",
    "petal_width = ctrl.Antecedent(np.linspace(0.0, 2.5, 11), 'petal_width')\n",
    "petal_length.automf(names=\"short medium long\".split())\n",
    "petal_width.automf(names=\"narrow medium wide\".split())\n",
    "\n",
    "setosa = ctrl.Consequent(np.linspace(0, 1, 10), 'setosa', \"som\")\n",
    "setosa['likely'] = fuzz.trimf(setosa.universe, (0., 1., 1.))\n",
    "\n",
    "versicolor = ctrl.Consequent(np.linspace(0, 1, 10), 'versicolor', \"som\")\n",
    "versicolor['likely'] = fuzz.trimf(versicolor.universe, (0., 1., 1.))\n",
    "\n",
    "verginica = ctrl.Consequent(np.linspace(0, 1, 10), 'verginica', \"som\")\n",
    "verginica['likely'] = fuzz.trimf(verginica.universe, (0., 1., 1.))\n",
    "\n",
    "pset = makePrimitiveSet([petal_length, petal_width], [setosa, versicolor, verginica])\n"
   ]
  },
  {
   "cell_type": "markdown",
   "id": "3517e987",
   "metadata": {},
   "source": [
    "# Define constants "
   ]
  },
  {
   "cell_type": "code",
   "execution_count": 4,
   "id": "975b9c1c",
   "metadata": {},
   "outputs": [],
   "source": [
    "POP_SIZE = 100\n",
    "P_CROSSOVER = 0.9\n",
    "P_MUTATION = 0.5\n",
    "MAX_GENERATIONS = 30\n",
    "HOF_SIZE = 10\n",
    "\n",
    "MIN_TREE_HEIGHT = 1\n",
    "MAX_TREE_HEIGHT = 5\n",
    "MUT_MIN_TREE_HEIGHT = 0\n",
    "MUT_MAX_TREE_HEIGHT = 3\n",
    "LIMIT_TREE_HEIGHT = 17"
   ]
  },
  {
   "cell_type": "markdown",
   "id": "75ccd072",
   "metadata": {},
   "source": [
    "# Define compile func, Individual class, select and mate operators etc"
   ]
  },
  {
   "cell_type": "code",
   "execution_count": 5,
   "id": "8ab87874",
   "metadata": {},
   "outputs": [],
   "source": [
    "toolbox = base.Toolbox()\n",
    "\n",
    "toolbox.register(\"compile\", gp.compile, pset=pset)\n",
    "\n",
    "toolbox.register(\"select\", tools.selTournament, tournsize=2)\n",
    "toolbox.register(\"mate\", gp.cxOnePoint)\n",
    "toolbox.register(\"expr_mut\", gp.genGrow, min_=MUT_MIN_TREE_HEIGHT, max_=MUT_MAX_TREE_HEIGHT)\n",
    "toolbox.register(\"mutate\", gp.mutUniform, expr=toolbox.expr_mut, pset=pset)\n",
    "toolbox.decorate(\"mate\", gp.staticLimit(key=operator.attrgetter(\"height\"), max_value=LIMIT_TREE_HEIGHT))\n",
    "toolbox.decorate(\"mutate\", gp.staticLimit(key=operator.attrgetter(\"height\"), max_value=LIMIT_TREE_HEIGHT))\n",
    "\n",
    "creator.create(\"FitnessMin\", base.Fitness, weights=(-1.,))\n",
    "creator.create(\"Individual\", gp.PrimitiveTree, fitness=creator.FitnessMin)\n",
    "toolbox.register(\"expr\", gp.genFull, pset=pset, min_=MIN_TREE_HEIGHT, max_=MAX_TREE_HEIGHT)\n",
    "toolbox.register(\"individualCreator\", tools.initIterate, creator.Individual, toolbox.expr)\n",
    "toolbox.register(\"populationCreator\", tools.initRepeat, list, toolbox.individualCreator)"
   ]
  },
  {
   "cell_type": "code",
   "execution_count": 6,
   "id": "2358296b",
   "metadata": {},
   "outputs": [
    {
     "name": "stdout",
     "output_type": "stream",
     "text": [
      "Rule(invert(petal_length['medium']), noop([versicolor['likely']]))\n"
     ]
    },
    {
     "data": {
      "text/plain": [
       "IF NOT-petal_length[medium] THEN verginica[likely]\n",
       "\tAND aggregation function : fmin\n",
       "\tOR aggregation function  : fmax"
      ]
     },
     "execution_count": 6,
     "metadata": {},
     "output_type": "execute_result"
    }
   ],
   "source": [
    "i = toolbox.individualCreator()\n",
    "print(i)\n",
    "toolbox.compile(i)"
   ]
  },
  {
   "cell_type": "code",
   "execution_count": null,
   "id": "48be2c41",
   "metadata": {},
   "outputs": [],
   "source": []
  }
 ],
 "metadata": {
  "kernelspec": {
   "display_name": "Python 3",
   "language": "python",
   "name": "python3"
  },
  "language_info": {
   "codemirror_mode": {
    "name": "ipython",
    "version": 3
   },
   "file_extension": ".py",
   "mimetype": "text/x-python",
   "name": "python",
   "nbconvert_exporter": "python",
   "pygments_lexer": "ipython3",
   "version": "3.9.4"
  }
 },
 "nbformat": 4,
 "nbformat_minor": 5
}
