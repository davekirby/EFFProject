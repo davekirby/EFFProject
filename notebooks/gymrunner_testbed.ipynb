{
 "cells": [
  {
   "cell_type": "code",
   "execution_count": 1,
   "id": "be3adcd3-52db-49d7-a3ea-45c51dd03452",
   "metadata": {},
   "outputs": [],
   "source": [
    "use_tensorboard = False"
   ]
  },
  {
   "cell_type": "code",
   "execution_count": 2,
   "id": "8b9809ac-bdb3-4e79-91a9-4ef1e65dbbe6",
   "metadata": {},
   "outputs": [],
   "source": [
    "env_name = \"Pendulum-v0\""
   ]
  },
  {
   "cell_type": "code",
   "execution_count": 3,
   "id": "70ef6c16-f898-462d-9c91-bb153d46f526",
   "metadata": {},
   "outputs": [
    {
     "name": "stdout",
     "output_type": "stream",
     "text": [
      "Run starting at 20210815-093133\n",
      "\n",
      "   \t        fitness         \t        size        \n",
      "   \t------------------------\t--------------------\n",
      "gen\tmax     \tavg     \tmin\tavg \tbest\n",
      "0  \t-746.445\t-1377.79\t6  \t9.48\t0   \n",
      "\n",
      "1  \t-656.94 \t-1203.57\t6  \t10.78\t0   \n",
      "\n",
      "2  \t-764.019\t-1199.9 \t6  \t10.84\t0   \n",
      "\n",
      "3  \t-555.457\t-1156.19\t6  \t12   \t0   \n",
      "\n",
      "4  \t-759.111\t-1111.13\t6  \t13.2 \t0   \n",
      "\n",
      "5  \t-759.111\t-1158.29\t6  \t12.34\t0   \n",
      "\n",
      "6  \t-649.901\t-1171.36\t6  \t12.36\t0   \n",
      "\n",
      "7  \t-570.671\t-1111.69\t7  \t12.54\t0   \n",
      "\n",
      "8  \t-599.497\t-1147.57\t6  \t11.8 \t0   \n",
      "\n",
      "9  \t-509.824\t-1194.53\t7  \t11.88\t0   \n",
      "IF obs_0[high] THEN action_0[high]\n",
      "IF obs_2[average] THEN action_0[higher]\n",
      "IF NOT-(obs_0[lower] OR obs_0[high]) THEN action_0[average]\n",
      "Finished with reward of -1219.980932177437\n"
     ]
    }
   ],
   "source": [
    "from datetime import datetime\n",
    "from pathlib import Path\n",
    "import tensorboardX\n",
    "import gym\n",
    "from evofuzzy.gymrunner import GymRunner\n",
    "\n",
    "timestamp = datetime.now().strftime('%Y%m%d-%H%M%S')\n",
    "print(\"Run starting at\", timestamp )\n",
    "\n",
    "if use_tensorboard:\n",
    "    tensorboard_dir = f\"tb_logs/gym/{env_name}\"\n",
    "    logdir = Path(f\"{tensorboard_dir}/{timestamp}\")\n",
    "    logdir.mkdir(parents=True, exist_ok=True)\n",
    "    tensorboard_writer = tensorboardX.SummaryWriter(str(logdir))\n",
    "else:\n",
    "    tensorboard_writer = None\n",
    "\n",
    "env = gym.make(env_name)\n",
    "runner = GymRunner(\n",
    "    population_size=50,\n",
    "    hall_of_fame_size=5,\n",
    "    max_generation=10,\n",
    "    mutation_prob=0.9,\n",
    "    crossover_prob=0.2,\n",
    "    min_tree_height=1,\n",
    "    max_tree_height=3,\n",
    "    max_rules=4,\n",
    "    whole_rule_prob=0.2,\n",
    "    tree_height_limit=5,\n",
    ")\n",
    "\n",
    "runner.train(env, tensorboard_writer)\n",
    "print(runner.best_str)\n",
    "runner.play(env)"
   ]
  },
  {
   "cell_type": "code",
   "execution_count": 15,
   "id": "aa3e2125-6a44-4782-a0a0-3f0702d488cf",
   "metadata": {},
   "outputs": [
    {
     "name": "stdout",
     "output_type": "stream",
     "text": [
      "Finished with reward of -586.3513799063912\n"
     ]
    }
   ],
   "source": [
    "runner.play(env)"
   ]
  },
  {
   "cell_type": "code",
   "execution_count": 8,
   "outputs": [
    {
     "data": {
      "text/plain": "(-509.82389435647406,)"
     },
     "execution_count": 8,
     "metadata": {},
     "output_type": "execute_result"
    }
   ],
   "source": [
    "max(i.fitness.values for i in runner.population_)"
   ],
   "metadata": {
    "collapsed": false,
    "pycharm": {
     "name": "#%%\n"
    }
   }
  }
 ],
 "metadata": {
  "kernelspec": {
   "display_name": "Python 3 (ipykernel)",
   "language": "python",
   "name": "python3"
  },
  "language_info": {
   "codemirror_mode": {
    "name": "ipython",
    "version": 3
   },
   "file_extension": ".py",
   "mimetype": "text/x-python",
   "name": "python",
   "nbconvert_exporter": "python",
   "pygments_lexer": "ipython3",
   "version": "3.9.0"
  }
 },
 "nbformat": 4,
 "nbformat_minor": 5
}