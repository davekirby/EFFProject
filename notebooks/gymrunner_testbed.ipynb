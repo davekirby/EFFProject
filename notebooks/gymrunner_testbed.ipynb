{
 "cells": [
  {
   "cell_type": "code",
   "execution_count": 1,
   "id": "be3adcd3-52db-49d7-a3ea-45c51dd03452",
   "metadata": {},
   "outputs": [],
   "source": [
    "use_tensorboard = True"
   ]
  },
  {
   "cell_type": "code",
   "execution_count": 2,
   "id": "8b9809ac-bdb3-4e79-91a9-4ef1e65dbbe6",
   "metadata": {},
   "outputs": [],
   "source": [
    "env_name = \"Pendulum-v0\""
   ]
  },
  {
   "cell_type": "code",
   "execution_count": 5,
   "id": "70ef6c16-f898-462d-9c91-bb153d46f526",
   "metadata": {},
   "outputs": [
    {
     "name": "stdout",
     "output_type": "stream",
     "text": [
      "Run starting at 20210904-131906\n",
      "\n",
      "   \t        fitness         \t        size        \n",
      "   \t------------------------\t--------------------\n",
      "gen\tmax     \tavg     \tmin\tavg\tbest\n",
      "0  \t-1147.86\t-1497.88\t18 \t31 \t33  \n",
      "\n",
      "1  \t-1140.43\t-1407.53\t17 \t28.45\t23  \n",
      "\n",
      "2  \t-1127.45\t-1284.47\t15 \t28.15\t33  \n",
      "\n",
      "3  \t-1127.45\t-1266.4 \t21 \t28.15\t33  \n",
      "\n",
      "4  \t-1127.45\t-1250.64\t20 \t25.5 \t33  \n",
      "\n",
      "5  \t-1125.78\t-1223.45\t19 \t29.7 \t31  \n",
      "\n",
      "6  \t-1125.78\t-1257.46\t23 \t31.15\t31  \n",
      "\n",
      "7  \t-1125.78\t-1218.04\t23 \t31.65\t31  \n",
      "\n",
      "8  \t-1125.78\t-1227.39\t18 \t30.25\t31  \n",
      "\n",
      "9  \t-1125.78\t-1233.45\t19 \t30.15\t31  \n",
      "IF obs_0[average] THEN action_0[average]\n",
      "IF obs_0[high] OR obs_2[average] THEN action_0[higher]\n",
      "IF NOT-obs_1[high] THEN action_0[higher]\n",
      "IF obs_2[lower] AND obs_1[low] THEN action_0[high]\n",
      "IF obs_0[low] THEN action_0[high]\n",
      "IF NOT-obs_1[high] THEN action_0[high]\n",
      "Reward: -1125.78109615688\n"
     ]
    }
   ],
   "source": [
    "from datetime import datetime\n",
    "from pathlib import Path\n",
    "import tensorboardX\n",
    "import gym\n",
    "from evofuzzy import GymRunner\n",
    "\n",
    "timestamp = datetime.now().strftime('%Y%m%d-%H%M%S')\n",
    "print(\"Run starting at\", timestamp )\n",
    "\n",
    "if use_tensorboard:\n",
    "    tensorboard_dir = f\"../tb_logs/gym/{env_name}\"\n",
    "    logdir = Path(f\"{tensorboard_dir}/{timestamp}\").absolute()\n",
    "    logdir.mkdir(parents=True, exist_ok=True)\n",
    "    tensorboard_writer = tensorboardX.SummaryWriter(str(logdir))\n",
    "else:\n",
    "    tensorboard_writer = None\n",
    "\n",
    "env = gym.make(env_name)\n",
    "runner = GymRunner(\n",
    "    population_size=20,\n",
    "    elite_size=5,\n",
    "    n_iter=10,\n",
    "    mutation_prob=0.5,\n",
    "    crossover_prob=0.5,\n",
    "    min_tree_height=2,\n",
    "    max_tree_height=5,\n",
    "    min_rules=3,\n",
    "    max_rules=6,\n",
    "    whole_rule_prob=0.2,\n",
    "    memory_decay=0.5,\n",
    ")\n",
    "\n",
    "runner.train(env, tensorboard_writer)\n",
    "print(runner.best_str)\n",
    "runner.save(logdir/\"runner.pkl\")\n",
    "reward = runner.play(env)\n",
    "print(\"Reward:\", reward)\n",
    "\n"
   ]
  },
  {
   "cell_type": "code",
   "execution_count": 7,
   "outputs": [
    {
     "name": "stdout",
     "output_type": "stream",
     "text": [
      "Reward: -1532.094846501161\n"
     ]
    }
   ],
   "source": [
    "reward = runner.play(env)\n",
    "print(\"Reward:\", reward)"
   ],
   "metadata": {
    "collapsed": false,
    "pycharm": {
     "name": "#%%\n"
    }
   }
  },
  {
   "cell_type": "code",
   "execution_count": 60,
   "outputs": [],
   "source": [],
   "metadata": {
    "collapsed": false,
    "pycharm": {
     "name": "#%%\n"
    }
   }
  }
 ],
 "metadata": {
  "kernelspec": {
   "display_name": "Python 3 (ipykernel)",
   "language": "python",
   "name": "python3"
  },
  "language_info": {
   "codemirror_mode": {
    "name": "ipython",
    "version": 3
   },
   "file_extension": ".py",
   "mimetype": "text/x-python",
   "name": "python",
   "nbconvert_exporter": "python",
   "pygments_lexer": "ipython3",
   "version": "3.9.0"
  }
 },
 "nbformat": 4,
 "nbformat_minor": 5
}