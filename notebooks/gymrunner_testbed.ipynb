{
 "cells": [
  {
   "cell_type": "code",
   "execution_count": 1,
   "id": "be3adcd3-52db-49d7-a3ea-45c51dd03452",
   "metadata": {},
   "outputs": [],
   "source": [
    "use_tensorboard = False"
   ]
  },
  {
   "cell_type": "code",
   "execution_count": 14,
   "id": "8b9809ac-bdb3-4e79-91a9-4ef1e65dbbe6",
   "metadata": {},
   "outputs": [],
   "source": [
    "env_name = \"LunarLanderContinuous-v2\""
   ]
  },
  {
   "cell_type": "code",
   "execution_count": 15,
   "id": "70ef6c16-f898-462d-9c91-bb153d46f526",
   "metadata": {},
   "outputs": [
    {
     "name": "stdout",
     "output_type": "stream",
     "text": [
      "Run starting at 20210814-105359\n",
      "   \t        fitness         \t        size        \n",
      "   \t------------------------\t--------------------\n",
      "gen\tmax     \tavg     \tmin\tavg  \tbest\n",
      "0  \t-83.3488\t-624.341\t6  \t10.36\t12  \n",
      "\n",
      "1  \t5.20396 \t-451.478\t6  \t9.38 \t13  \n",
      "\n",
      "2  \t5.20396 \t-516.497\t6  \t10.2 \t13  \n",
      "\n",
      "3  \t5.20396 \t-305.884\t6  \t11.54\t13  \n",
      "\n",
      "4  \t5.20396 \t-339.609\t6  \t11.1 \t13  \n",
      "\n",
      "5  \t5.20396 \t-348.188\t6  \t11.12\t13  \n",
      "\n",
      "6  \t9.55544 \t-263.934\t6  \t10.56\t12  \n",
      "\n",
      "7  \t9.55544 \t-294.854\t6  \t10.6 \t12  \n",
      "\n",
      "8  \t9.55544 \t-308.535\t7  \t11   \t12  \n",
      "\n",
      "9  \t36.1829 \t-284.573\t6  \t10.14\t12  \n",
      "IF obs_0[high] THEN action_0[high]\n",
      "IF obs_2[average] THEN [action_1[average], action_0[lower]]\n",
      "IF obs_7[higher] AND obs_1[low] THEN action_0[average]\n",
      "Finished with reward of -137.25238714175305\n"
     ]
    }
   ],
   "source": [
    "from datetime import datetime\n",
    "from pathlib import Path\n",
    "import tensorboardX\n",
    "import gym\n",
    "from evofuzzy.gymrunner import GymRunner\n",
    "\n",
    "timestamp = datetime.now().strftime('%Y%m%d-%H%M%S')\n",
    "print(\"Run starting at\", timestamp )\n",
    "\n",
    "if use_tensorboard:\n",
    "    tensorboard_dir = f\"tb_logs/gym/{env_name}\"\n",
    "    logdir = Path(f\"{tensorboard_dir}/{timestamp}\")\n",
    "    logdir.mkdir(parents=True, exist_ok=True)\n",
    "    tensorboard_writer = tensorboardX.SummaryWriter(str(logdir))\n",
    "else:\n",
    "    tensorboard_writer = None\n",
    "\n",
    "env = gym.make(env_name)\n",
    "runner = GymRunner(\n",
    "    population_size=50,\n",
    "    hall_of_fame_size=1,\n",
    "    max_generation=10,\n",
    "    mutation_prob=0.9,\n",
    "    crossover_prob=0.2,\n",
    "    min_tree_height=1,\n",
    "    max_tree_height=3,\n",
    "    max_rules=4,\n",
    "    whole_rule_prob=0.2,\n",
    "    tree_height_limit=5,\n",
    ")\n",
    "\n",
    "runner.train(env, tensorboard_writer)\n",
    "print(runner.best_str)\n",
    "runner.play(env)"
   ]
  },
  {
   "cell_type": "code",
   "execution_count": 16,
   "id": "aa3e2125-6a44-4782-a0a0-3f0702d488cf",
   "metadata": {},
   "outputs": [
    {
     "name": "stdout",
     "output_type": "stream",
     "text": [
      "Finished with reward of -7.19852502110129\n"
     ]
    }
   ],
   "source": [
    "runner.play(env)"
   ]
  }
 ],
 "metadata": {
  "kernelspec": {
   "display_name": "Python 3 (ipykernel)",
   "language": "python",
   "name": "python3"
  },
  "language_info": {
   "codemirror_mode": {
    "name": "ipython",
    "version": 3
   },
   "file_extension": ".py",
   "mimetype": "text/x-python",
   "name": "python",
   "nbconvert_exporter": "python",
   "pygments_lexer": "ipython3",
   "version": "3.9.0"
  }
 },
 "nbformat": 4,
 "nbformat_minor": 5
}