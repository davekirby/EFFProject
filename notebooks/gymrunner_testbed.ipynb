{
 "cells": [
  {
   "cell_type": "code",
   "execution_count": 2,
   "id": "be3adcd3-52db-49d7-a3ea-45c51dd03452",
   "metadata": {},
   "outputs": [],
   "source": [
    "use_tensorboard = True"
   ]
  },
  {
   "cell_type": "code",
   "execution_count": 3,
   "id": "8b9809ac-bdb3-4e79-91a9-4ef1e65dbbe6",
   "metadata": {},
   "outputs": [],
   "source": [
    "env_name = \"Pendulum-v0\""
   ]
  },
  {
   "cell_type": "code",
   "execution_count": 47,
   "id": "70ef6c16-f898-462d-9c91-bb153d46f526",
   "metadata": {},
   "outputs": [
    {
     "name": "stdout",
     "output_type": "stream",
     "text": [
      "Run starting at 20210821-212049\n",
      "\n",
      "   \t        fitness         \t        size        \n",
      "   \t------------------------\t--------------------\n",
      "gen\tmax     \tavg     \tmin\tavg  \tbest\n",
      "0  \t-961.013\t-1332.26\t9  \t17.32\t14  \n",
      "\n",
      "1  \t-902.601\t-1274.6 \t9  \t16.83\t12  \n",
      "\n",
      "2  \t-124.557\t-1215.2 \t10 \t15.73\t13  \n",
      "\n",
      "3  \t-124.557\t-1198.25\t9  \t14.29\t13  \n",
      "\n",
      "4  \t-124.557\t-1212.4 \t10 \t14.18\t13  \n",
      "\n",
      "5  \t-124.557\t-1192.77\t9  \t12.97\t13  \n",
      "\n",
      "6  \t-124.557\t-1197.49\t7  \t13.27\t13  \n",
      "\n",
      "7  \t-124.557\t-1128   \t9  \t12.99\t13  \n",
      "\n",
      "8  \t-124.557\t-1152.26\t7  \t13.75\t13  \n",
      "\n",
      "9  \t-124.557\t-1160.75\t8  \t14.01\t13  \n",
      "\n",
      "10 \t-124.557\t-1175.74\t8  \t12.68\t13  \n",
      "\n",
      "11 \t-124.557\t-1104.24\t8  \t12.55\t13  \n",
      "\n",
      "12 \t-124.557\t-1064.82\t7  \t12.93\t13  \n",
      "\n",
      "13 \t-124.557\t-1143.31\t9  \t12.92\t13  \n",
      "\n",
      "14 \t-124.557\t-1098.87\t7  \t12.9 \t13  \n",
      "\n",
      "15 \t-124.557\t-1177.38\t9  \t13.47\t13  \n",
      "\n",
      "16 \t-124.557\t-1192.19\t8  \t13.59\t13  \n",
      "\n",
      "17 \t-124.557\t-1157.74\t8  \t12.54\t13  \n",
      "\n",
      "18 \t-124.557\t-1200.69\t8  \t12.91\t13  \n",
      "\n",
      "19 \t-124.557\t-1154.79\t9  \t12.49\t13  \n",
      "\n",
      "20 \t-124.557\t-1120.27\t8  \t12.66\t13  \n",
      "\n",
      "21 \t-124.557\t-1115.76\t7  \t12.42\t13  \n",
      "\n",
      "22 \t-124.557\t-1154.74\t9  \t12.88\t13  \n",
      "\n",
      "23 \t-124.557\t-1150.88\t7  \t13.25\t13  \n",
      "\n",
      "24 \t-124.557\t-1175.18\t8  \t13   \t13  \n",
      "\n",
      "25 \t-124.557\t-1164.02\t8  \t12.93\t13  \n",
      "\n",
      "26 \t-124.557\t-1119.12\t8  \t13.26\t13  \n",
      "\n",
      "27 \t-124.557\t-1136.87\t8  \t13.06\t13  \n",
      "\n",
      "28 \t-124.557\t-1121.9 \t9  \t12.32\t13  \n",
      "\n",
      "29 \t-124.557\t-1098.7 \t7  \t11.98\t13  \n",
      "\n",
      "30 \t-124.557\t-1154.08\t7  \t12.2 \t13  \n",
      "\n",
      "31 \t-124.557\t-1171.79\t6  \t12.66\t13  \n",
      "\n",
      "32 \t-124.557\t-1192.69\t6  \t12.73\t13  \n",
      "\n",
      "33 \t-124.557\t-1158.01\t6  \t12.7 \t13  \n",
      "\n",
      "34 \t-124.557\t-1193.23\t6  \t11.87\t13  \n",
      "\n",
      "35 \t-124.557\t-1226.91\t7  \t12.67\t13  \n",
      "\n",
      "36 \t-124.557\t-1158.51\t8  \t12.4 \t13  \n",
      "\n",
      "37 \t-124.557\t-1194.94\t7  \t12.36\t13  \n",
      "\n",
      "38 \t-124.557\t-1212.81\t7  \t12.82\t13  \n",
      "\n",
      "39 \t-124.557\t-1164.89\t7  \t13.09\t13  \n",
      "\n",
      "40 \t-124.557\t-1186.26\t9  \t13.38\t13  \n",
      "\n",
      "41 \t-124.557\t-1220.4 \t8  \t13   \t13  \n",
      "\n",
      "42 \t-124.557\t-1160.79\t8  \t12.98\t13  \n",
      "\n",
      "43 \t-124.557\t-1182.39\t8  \t11.81\t13  \n",
      "\n",
      "44 \t-124.557\t-1201.8 \t8  \t11.77\t13  \n",
      "\n",
      "45 \t-124.557\t-1234.57\t8  \t12.03\t13  \n",
      "\n",
      "46 \t-124.557\t-1221.8 \t9  \t12.07\t13  \n",
      "\n",
      "47 \t-124.557\t-1246.78\t8  \t12.36\t13  \n",
      "\n",
      "48 \t-124.557\t-1156.68\t8  \t11.59\t13  \n",
      "\n",
      "49 \t-124.557\t-1214.34\t8  \t11.68\t13  \n",
      "IF obs_1[average] OR (NOT-obs_2[low]) THEN action_0[lower]\n",
      "IF obs_2[high] OR obs_0[higher] THEN action_0[higher]\n",
      "Finished with reward of -1379.7498329778236\n"
     ]
    }
   ],
   "source": [
    "from datetime import datetime\n",
    "from pathlib import Path\n",
    "import tensorboardX\n",
    "import gym\n",
    "from evofuzzy.gymrunner import GymRunner\n",
    "\n",
    "timestamp = datetime.now().strftime('%Y%m%d-%H%M%S')\n",
    "print(\"Run starting at\", timestamp )\n",
    "\n",
    "if use_tensorboard:\n",
    "    tensorboard_dir = f\"../tb_logs/gym/{env_name}\"\n",
    "    logdir = Path(f\"{tensorboard_dir}/{timestamp}\").absolute()\n",
    "    logdir.mkdir(parents=True, exist_ok=True)\n",
    "    tensorboard_writer = tensorboardX.SummaryWriter(str(logdir))\n",
    "else:\n",
    "    tensorboard_writer = None\n",
    "\n",
    "env = gym.make(env_name)\n",
    "runner = GymRunner(\n",
    "    population_size=100,\n",
    "    hall_of_fame_size=5,\n",
    "    max_generation=50,\n",
    "    mutation_prob=0.5,\n",
    "    crossover_prob=0.5,\n",
    "    min_tree_height=2,\n",
    "    max_tree_height=4,\n",
    "    min_rules=2,\n",
    "    max_rules=4,\n",
    "    whole_rule_prob=0.1,\n",
    "    tree_height_limit=8,\n",
    "    forgetting=0.5,\n",
    ")\n",
    "\n",
    "runner.train(env, tensorboard_writer, inf_limit=2)\n",
    "print(runner.best_str)\n",
    "runner.play(env)"
   ]
  },
  {
   "cell_type": "code",
   "execution_count": 57,
   "outputs": [
    {
     "name": "stdout",
     "output_type": "stream",
     "text": [
      "Finished with reward of -1501.9169899483643\n"
     ]
    }
   ],
   "source": [
    "runner.play(env)\n"
   ],
   "metadata": {
    "collapsed": false,
    "pycharm": {
     "name": "#%%\n"
    }
   }
  }
 ],
 "metadata": {
  "kernelspec": {
   "display_name": "Python 3 (ipykernel)",
   "language": "python",
   "name": "python3"
  },
  "language_info": {
   "codemirror_mode": {
    "name": "ipython",
    "version": 3
   },
   "file_extension": ".py",
   "mimetype": "text/x-python",
   "name": "python",
   "nbconvert_exporter": "python",
   "pygments_lexer": "ipython3",
   "version": "3.9.0"
  }
 },
 "nbformat": 4,
 "nbformat_minor": 5
}