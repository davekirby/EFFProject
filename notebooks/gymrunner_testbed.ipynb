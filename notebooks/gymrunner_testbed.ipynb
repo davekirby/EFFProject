{
 "cells": [
  {
   "cell_type": "code",
   "execution_count": 1,
   "id": "be3adcd3-52db-49d7-a3ea-45c51dd03452",
   "metadata": {},
   "outputs": [],
   "source": [
    "use_tensorboard = False"
   ]
  },
  {
   "cell_type": "code",
   "execution_count": 11,
   "id": "8b9809ac-bdb3-4e79-91a9-4ef1e65dbbe6",
   "metadata": {},
   "outputs": [],
   "source": [
    "env_name = \"Pendulum-v0\""
   ]
  },
  {
   "cell_type": "code",
   "execution_count": 17,
   "id": "70ef6c16-f898-462d-9c91-bb153d46f526",
   "metadata": {},
   "outputs": [
    {
     "name": "stdout",
     "output_type": "stream",
     "text": [
      "Run starting at 20210815-125740\n",
      "\n",
      "   \t        fitness         \t        size        \n",
      "   \t------------------------\t--------------------\n",
      "gen\tmax     \tavg     \tmin\tavg  \tbest\n",
      "0  \t-793.586\t-1326.03\t15 \t23.35\t0   \n",
      "\n",
      "1  \t-725.626\t-1265.74\t15 \t21.33\t0   \n",
      "\n",
      "2  \t-730.022\t-1241.85\t15 \t22.33\t0   \n",
      "\n",
      "3  \t-737.706\t-1233.24\t15 \t21.89\t0   \n",
      "\n",
      "4  \t-761.811\t-1214.55\t15 \t22.12\t0   \n",
      "\n",
      "5  \t-769.228\t-1205.02\t15 \t22.09\t0   \n",
      "\n",
      "6  \t-730.145\t-1236.06\t15 \t22.36\t0   \n",
      "\n",
      "7  \t-769.228\t-1234.86\t15 \t22.34\t0   \n",
      "\n",
      "8  \t-730.145\t-1239.48\t15 \t22.94\t0   \n",
      "\n",
      "9  \t-730.141\t-1210.79\t15 \t22.83\t0   \n",
      "IF obs_2[higher] THEN action_0[average]\n",
      "IF obs_1[low] AND obs_2[high] THEN action_0[lower]\n",
      "IF obs_2[average] THEN action_0[lower]\n",
      "IF obs_0[higher] THEN action_0[higher]\n",
      "IF obs_1[high] THEN action_0[high]\n",
      "IF obs_2[higher] THEN action_0[average]\n",
      "IF obs_0[high] THEN action_0[average]\n",
      "Finished with reward of -730.1413351847325\n"
     ]
    }
   ],
   "source": [
    "from datetime import datetime\n",
    "from pathlib import Path\n",
    "import tensorboardX\n",
    "import gym\n",
    "from evofuzzy.gymrunner import GymRunner\n",
    "\n",
    "timestamp = datetime.now().strftime('%Y%m%d-%H%M%S')\n",
    "print(\"Run starting at\", timestamp )\n",
    "\n",
    "if use_tensorboard:\n",
    "    tensorboard_dir = f\"tb_logs/gym/{env_name}\"\n",
    "    logdir = Path(f\"{tensorboard_dir}/{timestamp}\")\n",
    "    logdir.mkdir(parents=True, exist_ok=True)\n",
    "    tensorboard_writer = tensorboardX.SummaryWriter(str(logdir))\n",
    "else:\n",
    "    tensorboard_writer = None\n",
    "\n",
    "env = gym.make(env_name)\n",
    "runner = GymRunner(\n",
    "    population_size=100,\n",
    "    hall_of_fame_size=5,\n",
    "    max_generation=10,\n",
    "    mutation_prob=0.9,\n",
    "    crossover_prob=0.2,\n",
    "    min_tree_height=1,\n",
    "    max_tree_height=3,\n",
    "    min_rules=5,\n",
    "    max_rules=8,\n",
    "    whole_rule_prob=0.2,\n",
    "    tree_height_limit=5,\n",
    ")\n",
    "\n",
    "runner.train(env, tensorboard_writer, inf_limit=10)\n",
    "print(runner.best_str)\n",
    "runner.play(env)"
   ]
  },
  {
   "cell_type": "code",
   "execution_count": 18,
   "id": "aa3e2125-6a44-4782-a0a0-3f0702d488cf",
   "metadata": {},
   "outputs": [
    {
     "name": "stdout",
     "output_type": "stream",
     "text": [
      "Finished with reward of -760.9114072169135\n"
     ]
    }
   ],
   "source": [
    "runner.play(env)"
   ]
  },
  {
   "cell_type": "code",
   "execution_count": 23,
   "outputs": [
    {
     "data": {
      "text/plain": "array([1., 1., 8.], dtype=float32)"
     },
     "execution_count": 23,
     "metadata": {},
     "output_type": "execute_result"
    }
   ],
   "source": [
    "env.observation_space.high"
   ],
   "metadata": {
    "collapsed": false,
    "pycharm": {
     "name": "#%%\n"
    }
   }
  },
  {
   "cell_type": "code",
   "execution_count": 36,
   "outputs": [
    {
     "name": "stdout",
     "output_type": "stream",
     "text": [
      "(array([ 0.44128245,  0.04087888, -0.2672821 , -0.2855685 , -1.0125861 ,\n",
      "       -5.1052217 ,  1.        ,  0.        ], dtype=float32), -100, True, {})\n",
      "(array([ 0.43755674,  0.03877238, -0.26927763, -0.31207648, -1.2713304 ,\n",
      "       -4.85952   ,  1.        ,  0.        ], dtype=float32), -100, True, {})\n",
      "(array([ 0.43447572,  0.03600262, -0.2796007 , -0.3380725 , -1.5302945 ,\n",
      "       -4.8443975 ,  1.        ,  0.        ], dtype=float32), -100, True, {})\n",
      "(array([ 0.42921573,  0.03929644, -0.5251856 ,  0.04547491, -1.6736537 ,\n",
      "       -2.8091803 ,  0.        ,  0.        ], dtype=float32), -100, True, {})\n",
      "(array([ 0.42417574,  0.04196936, -0.52576935,  0.02652681, -1.8117449 ,\n",
      "       -2.758056  ,  0.        ,  0.        ], dtype=float32), -100, True, {})\n",
      "(array([ 0.41932917,  0.04408201, -0.5250378 ,  0.0067347 , -1.9468755 ,\n",
      "       -2.7041862 ,  0.        ,  0.        ], dtype=float32), -100, True, {})\n",
      "(array([ 0.41463137,  0.04550308, -0.5273431 , -0.01941235, -2.0818098 ,\n",
      "       -2.700829  ,  0.        ,  0.        ], dtype=float32), -100, True, {})\n",
      "(array([ 0.4100725 ,  0.04620467, -0.5295254 , -0.04536906, -2.2165735 ,\n",
      "       -2.6974592 ,  0.        ,  0.        ], dtype=float32), -100, True, {})\n",
      "(array([ 0.40563995,  0.04616054, -0.53154117, -0.07114033, -2.3511674 ,\n",
      "       -2.6940985 ,  0.        ,  0.        ], dtype=float32), -100, True, {})\n",
      "(array([ 0.4013192 ,  0.04534744, -0.53335416, -0.09674212, -2.4855933 ,\n",
      "       -2.6907496 ,  0.        ,  0.        ], dtype=float32), -100, True, {})\n",
      "(array([ 0.39753953,  0.04269506, -0.49010038, -0.16873126, -2.619515  ,\n",
      "       -2.6806333 ,  0.        ,  0.        ], dtype=float32), -100, True, {})\n",
      "(array([ 0.39383727,  0.03923708, -0.4914112 , -0.19406387, -2.7532716 ,\n",
      "       -2.6773343 ,  0.        ,  0.        ], dtype=float32), -100, True, {})\n",
      "(array([ 0.39011374,  0.03491808, -0.5025279 , -0.22157058, -2.8890498 ,\n",
      "       -2.717927  ,  0.        ,  0.        ], dtype=float32), -100, True, {})\n",
      "(array([ 0.38633996,  0.02972024, -0.5145604 , -0.24881996, -3.027039  ,\n",
      "       -2.7622662 ,  0.        ,  0.        ], dtype=float32), -100, True, {})\n",
      "(array([ 0.3824919 ,  0.02365659, -0.5265071 , -0.27457348, -3.1671638 ,\n",
      "       -2.8050795 ,  0.        ,  0.        ], dtype=float32), -100, True, {})\n",
      "(array([ 0.37857762,  0.01672605, -0.53408414, -0.29973984, -3.3085928 ,\n",
      "       -2.8312168 ,  0.        ,  0.        ], dtype=float32), -100, True, {})\n",
      "(array([ 0.37463218,  0.00893641, -0.5338022 , -0.32463795, -3.449828  ,\n",
      "       -2.8273318 ,  0.        ,  0.        ], dtype=float32), -100, True, {})\n",
      "(array([ 3.7064296e-01,  1.6493178e-03, -4.3654102e-01,  4.8613947e-02,\n",
      "       -3.5743587e+00, -4.2665976e-01,  0.0000000e+00,  0.0000000e+00],\n",
      "      dtype=float32), -100, True, {})\n",
      "(array([ 3.6655816e-01,  2.6866531e-03, -4.3032670e-01,  4.9521808e-02,\n",
      "       -3.5962770e+00, -4.4012508e-01,  0.0000000e+00,  0.0000000e+00],\n",
      "      dtype=float32), -100, True, {})\n",
      "(array([ 3.6210012e-01,  3.3306694e-03, -4.5675930e-01,  3.2196332e-02,\n",
      "       -3.6083386e+00, -2.3985818e-01,  0.0000000e+00,  0.0000000e+00],\n",
      "      dtype=float32), -100, True, {})\n"
     ]
    }
   ],
   "source": [
    "for _ in range(20):\n",
    "    print(env.step(env.action_space.sample()))"
   ],
   "metadata": {
    "collapsed": false,
    "pycharm": {
     "name": "#%%\n"
    }
   }
  },
  {
   "cell_type": "code",
   "execution_count": null,
   "outputs": [],
   "source": [],
   "metadata": {
    "collapsed": false,
    "pycharm": {
     "name": "#%%\n"
    }
   }
  }
 ],
 "metadata": {
  "kernelspec": {
   "display_name": "Python 3 (ipykernel)",
   "language": "python",
   "name": "python3"
  },
  "language_info": {
   "codemirror_mode": {
    "name": "ipython",
    "version": 3
   },
   "file_extension": ".py",
   "mimetype": "text/x-python",
   "name": "python",
   "nbconvert_exporter": "python",
   "pygments_lexer": "ipython3",
   "version": "3.9.0"
  }
 },
 "nbformat": 4,
 "nbformat_minor": 5
}