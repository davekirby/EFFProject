{
 "cells": [
  {
   "cell_type": "code",
   "execution_count": 9,
   "id": "be3adcd3-52db-49d7-a3ea-45c51dd03452",
   "metadata": {},
   "outputs": [],
   "source": [
    "use_tensorboard = True"
   ]
  },
  {
   "cell_type": "code",
   "execution_count": 10,
   "id": "8b9809ac-bdb3-4e79-91a9-4ef1e65dbbe6",
   "metadata": {},
   "outputs": [],
   "source": [
    "env_name = \"BipedalWalker-v3\""
   ]
  },
  {
   "cell_type": "code",
   "execution_count": 11,
   "id": "70ef6c16-f898-462d-9c91-bb153d46f526",
   "metadata": {},
   "outputs": [
    {
     "name": "stdout",
     "output_type": "stream",
     "text": [
      "Run starting at 20210827-081809\n"
     ]
    },
    {
     "name": "stderr",
     "output_type": "stream",
     "text": [
      "/home/dave/anaconda3/envs/eff/lib/python3.9/site-packages/gym/logger.py:30: UserWarning: \u001B[33mWARN: Box bound precision lowered by casting to float32\u001B[0m\n",
      "  warnings.warn(colorize('%s: %s'%('WARN', msg % args), 'yellow'))\n"
     ]
    },
    {
     "name": "stdout",
     "output_type": "stream",
     "text": [
      "\n",
      "   \t        fitness         \t        size        \n",
      "   \t------------------------\t--------------------\n",
      "gen\tmax     \tavg     \tmin\tavg  \tbest\n",
      "0  \t-34.5441\t-112.271\t56 \t87.56\t85  \n",
      "\n",
      "1  \t-18.6103\t-97.4875\t57 \t81.83\t92  \n",
      "\n",
      "2  \t-10.4624\t-84.6881\t58 \t79.76\t85  \n",
      "\n",
      "3  \t-9.34951\t-64.3685\t64 \t82.24\t87  \n",
      "\n",
      "4  \t-9.38776\t-51.1667\t58 \t85.9 \t87  \n",
      "\n",
      "5  \t-9.30101\t-50.9734\t57 \t87.76\t84  \n",
      "\n",
      "6  \t-7.24513\t-40.0842\t66 \t86.44\t87  \n",
      "\n",
      "7  \t3.74639 \t-39.3212\t81 \t86.9 \t86  \n",
      "\n",
      "8  \t-2.78168\t-38.7619\t76 \t87.46\t85  \n",
      "\n",
      "9  \t16.9935 \t-37.4966\t63 \t86.79\t87  \n",
      "\n",
      "10 \t19.1583 \t-34.3442\t69 \t86.8 \t87  \n",
      "\n",
      "11 \t31.7965 \t-41.4942\t57 \t86.5 \t87  \n",
      "\n",
      "12 \t25.3733 \t-31.6558\t84 \t87.68\t87  \n",
      "\n",
      "13 \t27.2769 \t-23.7416\t57 \t87.7 \t88  \n",
      "\n",
      "14 \t29.2734 \t-23.4546\t56 \t88.36\t96  \n",
      "\n",
      "15 \t27.756  \t-18.342 \t60 \t88.48\t87  \n",
      "\n",
      "16 \t29.0271 \t-15.3059\t67 \t88.55\t88  \n",
      "\n",
      "17 \t28.855  \t-12.6261\t69 \t88.22\t89  \n",
      "\n",
      "18 \t26.3679 \t-15.0737\t53 \t87.46\t86  \n",
      "\n",
      "19 \t30.3652 \t-14.2614\t63 \t88.59\t86  \n",
      "IF obs_14[higher] THEN action_0[low]\n",
      "IF obs_15[high] OR obs_13[low] THEN action_0[low]\n",
      "IF NOT-obs_2[high] THEN action_1[low]\n",
      "IF NOT-obs_11[high] THEN action_1[higher]\n",
      "IF obs_3[higher] THEN [action_0[high], action_1[low], action_3[high]]\n",
      "IF obs_3[average] AND obs_7[low] THEN [action_0[high], action_3[high]]\n",
      "IF obs_13[lower] OR obs_16[average] THEN [action_0[low], action_2[average], action_1[low]]\n",
      "IF obs_17[lower] AND obs_2[average] THEN [action_2[average], action_0[lower]]\n",
      "IF obs_3[average] AND obs_7[low] THEN [action_0[high], action_3[high]]\n",
      "IF obs_9[lower] OR obs_1[average] THEN [action_1[higher], action_3[average], action_2[low]]\n",
      "IF NOT-(obs_20[higher] OR obs_8[lower]) THEN [action_1[lower], action_2[high]]\n",
      "IF obs_1[average] OR obs_9[average] THEN [action_1[lower], action_0[high]]\n",
      "IF NOT-(obs_9[average] OR obs_6[average]) THEN [action_1[average], action_2[average], action_3[average]]\n",
      "IF NOT-obs_6[low] THEN [action_2[average], action_0[average], action_3[high]]\n",
      "IF obs_15[higher] OR obs_1[lower] THEN [action_1[higher], action_3[low], action_2[average]]\n",
      "Finished with reward of 23.047699236488025\n"
     ]
    }
   ],
   "source": [
    "from datetime import datetime\n",
    "from pathlib import Path\n",
    "import tensorboardX\n",
    "import gym\n",
    "from evofuzzy.gymrunner import GymRunner\n",
    "\n",
    "timestamp = datetime.now().strftime('%Y%m%d-%H%M%S')\n",
    "print(\"Run starting at\", timestamp )\n",
    "\n",
    "if use_tensorboard:\n",
    "    tensorboard_dir = f\"../tb_logs/gym/{env_name}\"\n",
    "    logdir = Path(f\"{tensorboard_dir}/{timestamp}\").absolute()\n",
    "    logdir.mkdir(parents=True, exist_ok=True)\n",
    "    tensorboard_writer = tensorboardX.SummaryWriter(str(logdir))\n",
    "else:\n",
    "    tensorboard_writer = None\n",
    "\n",
    "env = gym.make(env_name)\n",
    "runner = GymRunner(\n",
    "    population_size=100,\n",
    "    hall_of_fame_size=5,\n",
    "    max_generation=20,\n",
    "    mutation_prob=0.5,\n",
    "    crossover_prob=0.5,\n",
    "    min_tree_height=2,\n",
    "    max_tree_height=4,\n",
    "    min_rules=10,\n",
    "    max_rules=20,\n",
    "    whole_rule_prob=0.1,\n",
    "    tree_height_limit=8,\n",
    "    forgetting=0.5,\n",
    ")\n",
    "\n",
    "runner.train(env, tensorboard_writer, inf_limit=1)\n",
    "print(runner.best_str)\n",
    "runner.save(logdir/\"runner.pkl\")\n",
    "runner.play(env)"
   ]
  },
  {
   "cell_type": "code",
   "execution_count": 18,
   "outputs": [
    {
     "name": "stdout",
     "output_type": "stream",
     "text": [
      "Finished with reward of 22.204190151207\n"
     ]
    }
   ],
   "source": [
    "runner.play(env, 4)"
   ],
   "metadata": {
    "collapsed": false,
    "pycharm": {
     "name": "#%%\n"
    }
   }
  },
  {
   "cell_type": "code",
   "execution_count": 15,
   "outputs": [],
   "source": [
    "import pickle\n",
    "with open(logdir/\"runner.pkl\", \"wb\") as f:\n",
    "    pickle.dump(runner.__dict__, f)\n",
    "\n"
   ],
   "metadata": {
    "collapsed": false,
    "pycharm": {
     "name": "#%%\n"
    }
   }
  }
 ],
 "metadata": {
  "kernelspec": {
   "display_name": "Python 3 (ipykernel)",
   "language": "python",
   "name": "python3"
  },
  "language_info": {
   "codemirror_mode": {
    "name": "ipython",
    "version": 3
   },
   "file_extension": ".py",
   "mimetype": "text/x-python",
   "name": "python",
   "nbconvert_exporter": "python",
   "pygments_lexer": "ipython3",
   "version": "3.9.0"
  }
 },
 "nbformat": 4,
 "nbformat_minor": 5
}