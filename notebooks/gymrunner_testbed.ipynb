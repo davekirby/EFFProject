{
 "cells": [
  {
   "cell_type": "code",
   "execution_count": 19,
   "id": "be3adcd3-52db-49d7-a3ea-45c51dd03452",
   "metadata": {},
   "outputs": [],
   "source": [
    "use_tensorboard = True"
   ]
  },
  {
   "cell_type": "code",
   "execution_count": 60,
   "id": "8b9809ac-bdb3-4e79-91a9-4ef1e65dbbe6",
   "metadata": {},
   "outputs": [],
   "source": [
    "env_name = \"LunarLander-v2\""
   ]
  },
  {
   "cell_type": "code",
   "execution_count": 61,
   "id": "70ef6c16-f898-462d-9c91-bb153d46f526",
   "metadata": {},
   "outputs": [
    {
     "name": "stdout",
     "output_type": "stream",
     "text": [
      "Run starting at 20210815-210713\n",
      "\n",
      "   \t    fitness     \t        size        \n",
      "   \t----------------\t--------------------\n",
      "gen\tmax    \tavg     \tmin\tavg  \tbest\n",
      "0  \t-44.205\t-408.279\t24 \t28.44\t0   \n",
      "\n",
      "1  \t-4.66641\t-214.006\t24 \t27.62\t0   \n",
      "\n",
      "2  \t30.3298 \t-205.101\t24 \t26.58\t0   \n",
      "\n",
      "3  \t3.96483 \t-195.73 \t24 \t26.21\t0   \n",
      "\n",
      "4  \t-6.41697\t-199.585\t24 \t26.2 \t0   \n",
      "\n",
      "5  \t36.1786 \t-247.214\t24 \t26.27\t0   \n",
      "\n",
      "6  \t-4.25404\t-176.912\t24 \t26.41\t0   \n",
      "\n",
      "7  \t14.6744 \t-198.251\t24 \t26.24\t0   \n",
      "\n",
      "8  \t22.3357 \t-258.887\t24 \t26.09\t0   \n",
      "\n",
      "9  \t32.8921 \t-198.179\t24 \t26.72\t0   \n",
      "\n",
      "10 \t-2.72423\t-202.327\t24 \t26.7 \t0   \n",
      "\n",
      "11 \t49.1602 \t-208.264\t24 \t26.48\t0   \n",
      "\n",
      "12 \t25.6021 \t-179.368\t24 \t26.4 \t0   \n",
      "\n",
      "13 \t36.8006 \t-193.528\t24 \t26.2 \t0   \n",
      "\n",
      "14 \t12.7595 \t-181.995\t24 \t26.14\t0   \n",
      "\n",
      "15 \t-37.5099\t-200.543\t24 \t26.32\t0   \n",
      "\n",
      "16 \t17.3545 \t-254.79 \t24 \t26.44\t0   \n",
      "\n",
      "17 \t39.9316 \t-185.534\t24 \t26.63\t0   \n",
      "\n",
      "18 \t39.1218 \t-214.214\t24 \t26.81\t0   \n",
      "\n",
      "19 \t30.3657 \t-228.144\t24 \t26.8 \t0   \n",
      "\n",
      "20 \t4.25199 \t-192.476\t24 \t26.97\t0   \n",
      "\n",
      "21 \t223.599 \t-182.68 \t24 \t26.89\t0   \n",
      "\n",
      "22 \t26.0833 \t-172.699\t24 \t27.05\t0   \n",
      "\n",
      "23 \t8.62456 \t-212.205\t24 \t27.45\t0   \n",
      "\n",
      "24 \t4.34559 \t-200.308\t24 \t27.24\t0   \n",
      "\n",
      "25 \t28.5584 \t-190.039\t24 \t26.75\t0   \n",
      "\n",
      "26 \t24.0418 \t-236.892\t24 \t26.41\t0   \n",
      "\n",
      "27 \t19.0962 \t-197.6  \t24 \t26.16\t0   \n",
      "\n",
      "28 \t3.36168 \t-228.674\t24 \t26.57\t0   \n",
      "\n",
      "29 \t22.9491 \t-215.25 \t24 \t26.7 \t0   \n",
      "\n",
      "30 \t20.8651 \t-183.549\t24 \t27.21\t0   \n",
      "\n",
      "31 \t12.5653 \t-261.028\t25 \t27.37\t0   \n",
      "\n",
      "32 \t13.7487 \t-204.606\t25 \t27.5 \t0   \n",
      "\n",
      "33 \t-12.4413\t-193.933\t24 \t27.46\t0   \n",
      "\n",
      "34 \t26.3815 \t-177.841\t24 \t26.82\t0   \n",
      "\n",
      "35 \t-81.5727\t-182.327\t24 \t26.64\t0   \n",
      "\n",
      "36 \t6.20457 \t-190.711\t24 \t26.61\t0   \n",
      "\n",
      "37 \t49.6836 \t-226.388\t24 \t26.98\t0   \n",
      "\n",
      "38 \t21.8368 \t-216.094\t24 \t27.33\t0   \n",
      "\n",
      "39 \t4.09987 \t-216.31 \t24 \t26.91\t0   \n",
      "\n",
      "40 \t-42.1968\t-225.111\t24 \t26.84\t0   \n",
      "\n",
      "41 \t18.2684 \t-203.047\t24 \t26.99\t0   \n",
      "\n",
      "42 \t19.0199 \t-228.372\t24 \t26.78\t0   \n",
      "\n",
      "43 \t39.4793 \t-176.562\t24 \t26.65\t0   \n",
      "\n",
      "44 \t18.1313 \t-179.416\t24 \t26.89\t0   \n",
      "\n",
      "45 \t14.2301 \t-197.873\t24 \t27.23\t0   \n",
      "\n",
      "46 \t-6.2947 \t-216.512\t24 \t27   \t0   \n",
      "\n",
      "47 \t34.6071 \t-166.213\t24 \t26.85\t0   \n",
      "\n",
      "48 \t-81.6863\t-242.733\t24 \t26.83\t0   \n",
      "\n",
      "49 \t4.03155 \t-206.663\t24 \t26.84\t0   \n",
      "IF obs_4[average] THEN action_2[unlikely]\n",
      "IF obs_7[high] THEN action_3[unlikely]\n",
      "IF obs_5[low] THEN [action_2[unlikely], action_1[likely], action_3[unlikely]]\n",
      "IF obs_5[lower] THEN [action_1[unlikely], action_2[likely]]\n",
      "IF obs_7[high] THEN [action_1[unlikely], action_2[unlikely], action_3[unlikely]]\n",
      "IF obs_6[lower] THEN [action_0[unlikely], action_2[likely], action_1[unlikely]]\n",
      "IF obs_6[high] THEN action_0[unlikely]\n",
      "IF obs_3[high] THEN [action_0[likely], action_2[unlikely], action_1[likely]]\n",
      "Finished with reward of -116.79784348028431\n"
     ]
    }
   ],
   "source": [
    "from datetime import datetime\n",
    "from pathlib import Path\n",
    "import tensorboardX\n",
    "import gym\n",
    "from evofuzzy.gymrunner import GymRunner\n",
    "\n",
    "timestamp = datetime.now().strftime('%Y%m%d-%H%M%S')\n",
    "print(\"Run starting at\", timestamp )\n",
    "\n",
    "if use_tensorboard:\n",
    "    tensorboard_dir = f\"../tb_logs/gym/{env_name}\"\n",
    "    logdir = Path(f\"{tensorboard_dir}/{timestamp}\").absolute()\n",
    "    logdir.mkdir(parents=True, exist_ok=True)\n",
    "    tensorboard_writer = tensorboardX.SummaryWriter(str(logdir))\n",
    "else:\n",
    "    tensorboard_writer = None\n",
    "\n",
    "env = gym.make(env_name)\n",
    "runner = GymRunner(\n",
    "    population_size=100,\n",
    "    hall_of_fame_size=5,\n",
    "    max_generation=50,\n",
    "    mutation_prob=0.9,\n",
    "    crossover_prob=0.2,\n",
    "    min_tree_height=1,\n",
    "    max_tree_height=3,\n",
    "    min_rules=8,\n",
    "    max_rules=10,\n",
    "    whole_rule_prob=0.2,\n",
    "    tree_height_limit=5,\n",
    ")\n",
    "\n",
    "runner.train(env, tensorboard_writer, inf_limit=2)\n",
    "print(runner.best_str)\n",
    "runner.play(env)"
   ]
  },
  {
   "cell_type": "code",
   "execution_count": 70,
   "outputs": [
    {
     "name": "stdout",
     "output_type": "stream",
     "text": [
      "Finished with reward of -104.19536702909619\n"
     ]
    }
   ],
   "source": [
    "runner.play(env)"
   ],
   "metadata": {
    "collapsed": false,
    "pycharm": {
     "name": "#%%\n"
    }
   }
  },
  {
   "cell_type": "code",
   "execution_count": 62,
   "outputs": [
    {
     "name": "stdout",
     "output_type": "stream",
     "text": [
      "IF obs_4[average] THEN action_2[unlikely]\n",
      "IF obs_7[high] THEN action_3[unlikely]\n",
      "IF obs_5[low] THEN [action_2[unlikely], action_1[likely], action_3[unlikely]]\n",
      "IF obs_5[lower] THEN [action_1[unlikely], action_2[likely]]\n",
      "IF obs_7[high] THEN [action_1[unlikely], action_2[unlikely], action_3[unlikely]]\n",
      "IF obs_6[lower] THEN [action_0[unlikely], action_2[likely], action_1[unlikely]]\n",
      "IF obs_6[high] THEN action_0[unlikely]\n",
      "IF obs_3[high] THEN [action_0[likely], action_2[unlikely], action_1[likely]]\n"
     ]
    }
   ],
   "source": [
    "print(runner.best_str)"
   ],
   "metadata": {
    "collapsed": false,
    "pycharm": {
     "name": "#%%\n"
    }
   }
  },
  {
   "cell_type": "code",
   "execution_count": null,
   "outputs": [],
   "source": [],
   "metadata": {
    "collapsed": false,
    "pycharm": {
     "name": "#%%\n"
    }
   }
  }
 ],
 "metadata": {
  "kernelspec": {
   "display_name": "Python 3 (ipykernel)",
   "language": "python",
   "name": "python3"
  },
  "language_info": {
   "codemirror_mode": {
    "name": "ipython",
    "version": 3
   },
   "file_extension": ".py",
   "mimetype": "text/x-python",
   "name": "python",
   "nbconvert_exporter": "python",
   "pygments_lexer": "ipython3",
   "version": "3.9.0"
  }
 },
 "nbformat": 4,
 "nbformat_minor": 5
}