{
 "cells": [
  {
   "cell_type": "code",
   "execution_count": 3,
   "id": "7e123a21",
   "metadata": {},
   "outputs": [],
   "source": [
    "from deap import creator, base, algorithms, gp, tools\n",
    "import random\n",
    "import matplotlib.pyplot as plt\n",
    "import seaborn as sns"
   ]
  },
  {
   "cell_type": "markdown",
   "id": "90e28bc7",
   "metadata": {},
   "source": [
    "# OneMax problem - the hard way\n",
    "(from Hands-On Genetic Programming with Python by Eyal Wirsansky)"
   ]
  },
  {
   "cell_type": "code",
   "execution_count": 6,
   "id": "b43600f4",
   "metadata": {},
   "outputs": [],
   "source": [
    "ONEMAX_LENGTH = 100\n",
    "POP_SIZE = 200\n",
    "P_CROSSOVER = 0.9\n",
    "P_MUTATION = 0.1\n",
    "MAX_GENERATIONS = 50\n",
    "\n",
    "toolbox = base.Toolbox()\n",
    "toolbox.register(\"zeroOrOne\", random.randint, 0, 1)\n",
    "creator.create(\"FitnessMax\", base.Fitness, weights=(1.0,))\n",
    "creator.create(\"Individual\", list, fitness=creator.FitnessMax)\n",
    "toolbox.register(\"individualCreator\", tools.initRepeat, creator.Individual, toolbox.zeroOrOne, ONEMAX_LENGTH)\n",
    "toolbox.register(\"populationCreator\", tools.initRepeat, list, toolbox.individualCreator)"
   ]
  },
  {
   "cell_type": "code",
   "execution_count": 14,
   "id": "e0f8201c",
   "metadata": {},
   "outputs": [],
   "source": [
    "def oneMaxFitness(individual):\n",
    "    return sum(individual),\n",
    "\n",
    "toolbox.register(\"evaluate\", oneMaxFitness)\n",
    "toolbox.register(\"select\", tools.selTournament, tournsize=3)\n",
    "toolbox.register(\"mate\", tools.cxOnePoint)\n",
    "toolbox.register(\"mutate\", tools.mutFlipBit, indpb=1/ONEMAX_LENGTH)\n"
   ]
  },
  {
   "cell_type": "code",
   "execution_count": 16,
   "id": "b3428d2c",
   "metadata": {},
   "outputs": [
    {
     "name": "stdout",
     "output_type": "stream",
     "text": [
      "- Generation 1: max = 64.0 mean = 54.94\n",
      "Best: 90\n",
      "- Generation 2: max = 67.0 mean = 57.83\n",
      "Best: 12\n",
      "- Generation 3: max = 71.0 mean = 60.74\n",
      "Best: 22\n",
      "- Generation 4: max = 74.0 mean = 63.56\n",
      "Best: 72\n",
      "- Generation 5: max = 75.0 mean = 66.63\n",
      "Best: 136\n",
      "- Generation 6: max = 78.0 mean = 69.025\n",
      "Best: 102\n",
      "- Generation 7: max = 78.0 mean = 71.48\n",
      "Best: 165\n",
      "- Generation 8: max = 79.0 mean = 73.335\n",
      "Best: 10\n",
      "- Generation 9: max = 80.0 mean = 75.69\n",
      "Best: 6\n",
      "- Generation 10: max = 82.0 mean = 77.185\n",
      "Best: 19\n",
      "- Generation 11: max = 84.0 mean = 78.755\n",
      "Best: 147\n",
      "- Generation 12: max = 87.0 mean = 80.325\n",
      "Best: 167\n",
      "- Generation 13: max = 88.0 mean = 82.105\n",
      "Best: 138\n",
      "- Generation 14: max = 89.0 mean = 83.985\n",
      "Best: 103\n",
      "- Generation 15: max = 90.0 mean = 85.74\n",
      "Best: 138\n",
      "- Generation 16: max = 90.0 mean = 87.24\n",
      "Best: 48\n",
      "- Generation 17: max = 90.0 mean = 88.225\n",
      "Best: 3\n",
      "- Generation 18: max = 91.0 mean = 89.075\n",
      "Best: 48\n",
      "- Generation 19: max = 92.0 mean = 89.735\n",
      "Best: 44\n",
      "- Generation 20: max = 92.0 mean = 90.165\n",
      "Best: 103\n",
      "- Generation 21: max = 93.0 mean = 90.565\n",
      "Best: 0\n",
      "- Generation 22: max = 93.0 mean = 91.045\n",
      "Best: 77\n",
      "- Generation 23: max = 93.0 mean = 91.41\n",
      "Best: 6\n",
      "- Generation 24: max = 94.0 mean = 91.92\n",
      "Best: 8\n",
      "- Generation 25: max = 94.0 mean = 92.43\n",
      "Best: 11\n",
      "- Generation 26: max = 95.0 mean = 93.025\n",
      "Best: 33\n",
      "- Generation 27: max = 95.0 mean = 93.56\n",
      "Best: 12\n",
      "- Generation 28: max = 95.0 mean = 93.93\n",
      "Best: 14\n",
      "- Generation 29: max = 96.0 mean = 94.29\n",
      "Best: 150\n",
      "- Generation 30: max = 95.0 mean = 94.57\n",
      "Best: 0\n",
      "- Generation 31: max = 97.0 mean = 94.88\n",
      "Best: 116\n",
      "- Generation 32: max = 97.0 mean = 94.93\n",
      "Best: 199\n",
      "- Generation 33: max = 97.0 mean = 95.12\n",
      "Best: 79\n",
      "- Generation 34: max = 98.0 mean = 95.435\n",
      "Best: 55\n",
      "- Generation 35: max = 98.0 mean = 96.005\n",
      "Best: 27\n",
      "- Generation 36: max = 99.0 mean = 96.645\n",
      "Best: 8\n",
      "- Generation 37: max = 99.0 mean = 97.27\n",
      "Best: 10\n",
      "- Generation 38: max = 100.0 mean = 97.72\n",
      "Best: 105\n"
     ]
    },
    {
     "data": {
      "image/png": "[encoded data removed]",
      "text/plain": [
       "<Figure size 432x288 with 1 Axes>"
      ]
     },
     "metadata": {
      "needs_background": "light"
     },
     "output_type": "display_data"
    }
   ],
   "source": [
    "def evolve(toolbox):\n",
    "    population = toolbox.populationCreator(n=POP_SIZE)\n",
    "    generationCounter = 0\n",
    "    fitnessValues = list(map(toolbox.evaluate, population))\n",
    "    for individual, fitnessValue in zip(population, fitnessValues):\n",
    "        individual.fitness.values = fitnessValue\n",
    "\n",
    "    fitnessValues = [individual.fitness.values[0] for individual in population]\n",
    "    maxFitnessValues = []\n",
    "    meanFitnessValues = []\n",
    "    while max(fitnessValues) < ONEMAX_LENGTH and generationCounter < MAX_GENERATIONS:\n",
    "        generationCounter += 1\n",
    "        offspring = toolbox.select(population, len(population))\n",
    "        offspring = list(map(toolbox.clone, offspring))\n",
    "        for child1, child2 in zip(offspring[::2], offspring[1::2]):\n",
    "            if random.random() < P_CROSSOVER:\n",
    "                toolbox.mate(child1, child2)\n",
    "                del child1.fitness.values\n",
    "                del child2.fitness.values\n",
    "                \n",
    "        for mutant in offspring:\n",
    "            if random.random() < P_MUTATION:\n",
    "                toolbox.mutate(mutant)\n",
    "                del mutant.fitness.values\n",
    "        freshIndividuals = [ind for ind in offspring if not ind.fitness.valid]\n",
    "        freshFitnessValues = list(map(toolbox.evaluate, freshIndividuals))\n",
    "        for individual, fitnessValue in zip(freshIndividuals, freshFitnessValues):\n",
    "            individual.fitness.values = fitnessValue\n",
    "        population[:] = offspring\n",
    "        fitnessValues = [ind.fitness.values[0] for ind in population]\n",
    "        maxFitness = max(fitnessValues)\n",
    "        meanFitness = sum(fitnessValues) / len(population)\n",
    "        maxFitnessValues.append(maxFitness)\n",
    "        meanFitnessValues.append(meanFitness)\n",
    "        print(f\"- Generation {generationCounter}: max = {maxFitness} mean = {meanFitness}\")\n",
    "        best_index = fitnessValues.index(max(fitnessValues))\n",
    "        print(f\"Best: {best_index}\")\n",
    "    plt.plot(maxFitnessValues, color='red')\n",
    "    plt.plot(meanFitnessValues, color='green')\n",
    "    plt.xlabel('Generation')\n",
    "    plt.ylabel('Max / Average Fitness')\n",
    "    plt.title('Max and Average fitness over Generations')\n",
    "    plt.show()\n",
    "\n",
    "evolve(toolbox)"
   ]
  },
  {
   "cell_type": "markdown",
   "id": "2e6d750e",
   "metadata": {},
   "source": [
    "# OneMax the easy way"
   ]
  },
  {
   "cell_type": "code",
   "execution_count": 28,
   "id": "8e51a6bc",
   "metadata": {},
   "outputs": [
    {
     "name": "stdout",
     "output_type": "stream",
     "text": [
      "gen\tnevals\tmax\tmean  \n",
      "0  \t200   \t65 \t49.915\n",
      "1  \t172   \t67 \t53.775\n",
      "2  \t185   \t70 \t57.4  \n",
      "3  \t181   \t72 \t60.79 \n",
      "4  \t185   \t74 \t64.295\n",
      "5  \t192   \t76 \t67.29 \n",
      "6  \t167   \t77 \t70.155\n",
      "7  \t180   \t80 \t72.59 \n",
      "8  \t183   \t80 \t75.035\n",
      "9  \t181   \t82 \t76.82 \n",
      "10 \t182   \t84 \t78.58 \n",
      "11 \t178   \t86 \t80.285\n",
      "12 \t175   \t87 \t81.615\n",
      "13 \t173   \t88 \t83.215\n",
      "14 \t175   \t88 \t84.55 \n",
      "15 \t174   \t89 \t85.895\n",
      "16 \t184   \t89 \t86.72 \n",
      "17 \t174   \t89 \t87.39 \n",
      "18 \t182   \t90 \t87.87 \n",
      "19 \t184   \t91 \t88.42 \n",
      "20 \t175   \t91 \t88.975\n",
      "21 \t187   \t93 \t89.495\n",
      "22 \t182   \t93 \t90.115\n",
      "23 \t200   \t93 \t90.75 \n",
      "24 \t186   \t93 \t91.525\n",
      "25 \t185   \t94 \t92.16 \n",
      "26 \t184   \t94 \t92.735\n",
      "27 \t183   \t95 \t93.27 \n",
      "28 \t182   \t95 \t93.795\n",
      "29 \t174   \t96 \t94.125\n",
      "30 \t183   \t96 \t94.34 \n",
      "31 \t195   \t97 \t94.73 \n",
      "32 \t179   \t97 \t95.095\n",
      "33 \t184   \t97 \t95.465\n",
      "34 \t175   \t97 \t95.805\n",
      "35 \t186   \t97 \t96.01 \n",
      "36 \t180   \t97 \t96.235\n",
      "37 \t177   \t97 \t96.565\n",
      "38 \t184   \t97 \t96.87 \n",
      "39 \t187   \t97 \t96.885\n",
      "40 \t183   \t98 \t96.885\n",
      "41 \t186   \t98 \t96.9  \n",
      "42 \t181   \t98 \t96.965\n",
      "43 \t186   \t98 \t96.995\n",
      "44 \t185   \t98 \t97.17 \n",
      "45 \t184   \t98 \t97.37 \n",
      "46 \t186   \t98 \t97.775\n",
      "47 \t180   \t98 \t97.9  \n",
      "48 \t187   \t98 \t97.94 \n",
      "49 \t189   \t98 \t97.925\n",
      "50 \t173   \t98 \t97.94 \n"
     ]
    }
   ],
   "source": [
    "import numpy as np\n",
    "\n",
    "HOF_SIZE = 10\n",
    "hof = tools.HallOfFame(HOF_SIZE)\n",
    "population = toolbox.populationCreator(n=POP_SIZE)\n",
    "stats = tools.Statistics(lambda ind: ind.fitness.values)\n",
    "stats.register(\"max\", np.max)\n",
    "stats.register(\"mean\", np.mean)\n",
    "population, logbook = algorithms.eaSimple(\n",
    "    population,\n",
    "    toolbox,\n",
    "    cxpb=P_CROSSOVER,\n",
    "    mutpb=P_MUTATION,\n",
    "    ngen=MAX_GENERATIONS,\n",
    "    halloffame=hof,\n",
    "    stats=stats,\n",
    "    verbose=True\n",
    ")\n"
   ]
  },
  {
   "cell_type": "code",
   "execution_count": 29,
   "id": "9e1ecc7c",
   "metadata": {},
   "outputs": [
    {
     "data": {
      "image/png": "[encoded data removed]",
      "text/plain": [
       "<Figure size 432x288 with 1 Axes>"
      ]
     },
     "metadata": {
      "needs_background": "light"
     },
     "output_type": "display_data"
    }
   ],
   "source": [
    "maxFitnessValues, meanFitnessValues = logbook.select(\"max\", \"mean\")\n",
    "plt.plot(maxFitnessValues, color='red')\n",
    "plt.plot(meanFitnessValues, color='green')\n",
    "plt.xlabel('Generation')\n",
    "plt.ylabel('Max / Average Fitness')\n",
    "plt.title('Max and Average fitness over Generations')\n",
    "plt.show()"
   ]
  },
  {
   "cell_type": "code",
   "execution_count": 25,
   "id": "4780a6f1",
   "metadata": {},
   "outputs": [
    {
     "name": "stdout",
     "output_type": "stream",
     "text": [
      "[1, 1, 1, 1, 1, 1, 1, 1, 1, 1, 1, 1, 1, 1, 1, 1, 1, 1, 1, 1, 1, 1, 1, 1, 1, 1, 1, 1, 1, 1, 1, 1, 1, 1, 1, 1, 1, 1, 1, 1, 1, 1, 1, 1, 1, 1, 1, 1, 1, 1, 1, 1, 1, 1, 1, 1, 1, 1, 1, 1, 1, 1, 1, 0, 1, 1, 1, 1, 1, 1, 1, 1, 1, 1, 1, 1, 1, 1, 1, 1, 1, 1, 1, 1, 1, 1, 1, 1, 1, 1, 1, 1, 1, 1, 1, 1, 1, 1, 1, 1]\n"
     ]
    }
   ],
   "source": [
    "print(hof.items[0])"
   ]
  },
  {
   "cell_type": "markdown",
   "id": "4ef98ca7",
   "metadata": {},
   "source": [
    "# Genetic Programming example\n",
    "(from the same book)"
   ]
  },
  {
   "cell_type": "code",
   "execution_count": null,
   "id": "1fd5d535",
   "metadata": {},
   "outputs": [],
   "source": []
  }
 ],
 "metadata": {
  "kernelspec": {
   "display_name": "Python 3",
   "language": "python",
   "name": "python3"
  },
  "language_info": {
   "codemirror_mode": {
    "name": "ipython",
    "version": 3
   },
   "file_extension": ".py",
   "mimetype": "text/x-python",
   "name": "python",
   "nbconvert_exporter": "python",
   "pygments_lexer": "ipython3",
   "version": "3.9.4"
  }
 },
 "nbformat": 4,
 "nbformat_minor": 5
}
